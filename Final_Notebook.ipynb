{
 "cells": [
  {
   "cell_type": "code",
   "execution_count": 1,
   "metadata": {
    "_cell_guid": "b1076dfc-b9ad-4769-8c92-a6c4dae69d19",
    "_uuid": "8f2839f25d086af736a60e9eeb907d3b93b6e0e5"
   },
   "outputs": [],
   "source": [
    "# This Python 3 environment comes with many helpful analytics libraries installed\n",
    "# It is defined by the kaggle/python Docker image: https://github.com/kaggle/docker-python\n",
    "# For example, here's several helpful packages to load\n",
    "\n",
    "import numpy as np # linear algebra\n",
    "import pandas as pd # data processing, CSV file I/O (e.g. pd.read_csv)\n",
    "import time\n",
    "from sklearn.ensemble import RandomForestRegressor, GradientBoostingRegressor\n",
    "from sklearn.model_selection import train_test_split\n",
    "from sklearn.metrics import mean_squared_error\n",
    "import gc\n",
    "# Input data files are available in the read-only \"../input/\" directory\n",
    "# For example, running this (by clicking run or pressing Shift+Enter) will list all files under the input directory\n",
    "\n",
    "import os\n",
    "# for dirname, _, filenames in os.walk('/kaggle/input'):\n",
    "#     for filename in filenames:\n",
    "#         print(os.path.join(dirname, filename))\n",
    "\n",
    "# You can write up to 5GB to the current directory (/kaggle/working/) that gets preserved as output when you create a version using \"Save & Run All\" \n",
    "# You can also write temporary files to /kaggle/temp/, but they won't be saved outside of the current session"
   ]
  },
  {
   "cell_type": "code",
   "execution_count": 2,
   "metadata": {
    "_cell_guid": "79c7e3d0-c299-4dcb-8224-4455121ee9b0",
    "_uuid": "d629ff2d2480ee46fbb7e2d37f6b5fab8052498a"
   },
   "outputs": [],
   "source": [
    "SampleSubmission = pd.read_csv(\"../input/zindi-dataset/SampleSubmission.csv\")\n",
    "data = pd.read_csv(\"../input/zindi-dataset/Train.csv\")"
   ]
  },
  {
   "cell_type": "code",
   "execution_count": 3,
   "metadata": {},
   "outputs": [],
   "source": [
    "train_cols = ['X', 'Y', 'target_2015', 'elevation', 'precip 2014-11-16 - 2014-11-23',\n",
    "       'precip 2014-11-23 - 2014-11-30', 'precip 2014-11-30 - 2014-12-07',\n",
    "       'precip 2014-12-07 - 2014-12-14', 'precip 2014-12-14 - 2014-12-21',\n",
    "       'precip 2014-12-21 - 2014-12-28', 'precip 2014-12-28 - 2015-01-04',\n",
    "       'precip 2015-01-04 - 2015-01-11', 'precip 2015-01-11 - 2015-01-18',\n",
    "       'precip 2015-01-18 - 2015-01-25', 'precip 2015-01-25 - 2015-02-01',\n",
    "       'precip 2015-02-01 - 2015-02-08', 'precip 2015-02-08 - 2015-02-15',\n",
    "       'precip 2015-02-15 - 2015-02-22', 'precip 2015-02-22 - 2015-03-01',\n",
    "       'precip 2015-03-01 - 2015-03-08', 'precip 2015-03-08 - 2015-03-15','LC_Type1_mode', 'Square_ID']\n",
    "\n",
    "test_cols =['X', 'Y', 'elevation','precip 2019-01-20 - 2019-01-27', \n",
    "            'precip 2019-01-27 - 2019-02-03',\n",
    "       'precip 2019-02-03 - 2019-02-10', 'precip 2019-02-10 - 2019-02-17',\n",
    "       'precip 2019-02-17 - 2019-02-24', 'precip 2019-02-24 - 2019-03-03',\n",
    "       'precip 2019-03-03 - 2019-03-10', 'precip 2019-03-10 - 2019-03-17',\n",
    "       'precip 2019-03-17 - 2019-03-24', 'precip 2019-03-24 - 2019-03-31',\n",
    "       'precip 2019-03-31 - 2019-04-07', 'precip 2019-04-07 - 2019-04-14',\n",
    "       'precip 2019-04-14 - 2019-04-21', 'precip 2019-04-21 - 2019-04-28',\n",
    "       'precip 2019-04-28 - 2019-05-05', 'precip 2019-05-05 - 2019-05-12',\n",
    "       'precip 2019-05-12 - 2019-05-19', 'LC_Type1_mode', 'Square_ID']"
   ]
  },
  {
   "cell_type": "code",
   "execution_count": 4,
   "metadata": {},
   "outputs": [
    {
     "data": {
      "text/plain": [
       "((16466, 23), (16466, 22))"
      ]
     },
     "execution_count": 4,
     "metadata": {},
     "output_type": "execute_result"
    }
   ],
   "source": [
    "train = data[train_cols]\n",
    "test = data[test_cols]\n",
    "train.shape, test.shape"
   ]
  },
  {
   "cell_type": "code",
   "execution_count": 5,
   "metadata": {},
   "outputs": [],
   "source": [
    "def transform_col_names(original_cols) :\n",
    "    new_cols =[]\n",
    "    compt_back = -17\n",
    "    for i in original_cols :\n",
    "        if i.startswith('precip') :\n",
    "            new_cols.append('precip'+str(compt_back))\n",
    "            compt_back+=1\n",
    "        else :\n",
    "            new_cols.append(i)\n",
    "    return new_cols"
   ]
  },
  {
   "cell_type": "code",
   "execution_count": 6,
   "metadata": {},
   "outputs": [],
   "source": [
    "new_train_cols = transform_col_names(train_cols)\n",
    "new_test_cols = transform_col_names(test_cols)\n",
    "\n",
    "train.columns = new_train_cols\n",
    "test.columns = new_test_cols"
   ]
  },
  {
   "cell_type": "code",
   "execution_count": 7,
   "metadata": {},
   "outputs": [],
   "source": [
    "full_data = pd.concat([train, test], 0).reset_index(drop=True)"
   ]
  },
  {
   "cell_type": "markdown",
   "metadata": {},
   "source": [
    "**Let's Add the Slope : the Slope extraction is Done in R Language Using the Notebook \"Terrain Features\"that you can find enclosed.**"
   ]
  },
  {
   "cell_type": "code",
   "execution_count": 8,
   "metadata": {},
   "outputs": [],
   "source": [
    "slope = pd.read_csv(\"../input/raster-terrain/terrain.csv\")\n",
    "slope.slope.fillna(method='ffill', inplace=True)\n",
    "slope.slope.fillna(method='bfill', inplace=True)\n",
    "slope = slope[[\"lon\",\"lat\",\"slope\"]]\n",
    "\n",
    "# lon_lat are already in the suitable order, no need to merge :p :\n",
    "full_data[\"slope\"] = slope[\"slope\"]"
   ]
  },
  {
   "cell_type": "markdown",
   "metadata": {},
   "source": [
    "Now let's include Soil data, which you can find on the following link (Website allowed by Zindi) : \n",
    "* http://www.masdap.mw/layers/geonode:mw_soils"
   ]
  },
  {
   "cell_type": "markdown",
   "metadata": {},
   "source": [
    "* The Aggregation between Malawi Shapefiles and The points in the Train_Test File is Done using **DivaGIS** Software (Open Source Software Allowed By Zindi).\n",
    "* The output of the **DivaGIS** is the following \"soil_data.txt\" File."
   ]
  },
  {
   "cell_type": "code",
   "execution_count": 9,
   "metadata": {},
   "outputs": [],
   "source": [
    "from sklearn.preprocessing import LabelEncoder\n",
    "def le_encoder(df) :\n",
    "    df = df.apply(LabelEncoder().fit_transform)\n",
    "    return df"
   ]
  },
  {
   "cell_type": "code",
   "execution_count": 10,
   "metadata": {},
   "outputs": [
    {
     "name": "stderr",
     "output_type": "stream",
     "text": [
      "/opt/conda/lib/python3.7/site-packages/IPython/core/interactiveshell.py:3063: DtypeWarning: Columns (17,29) have mixed types.Specify dtype option on import or set low_memory=False.\n",
      "  interactivity=interactivity, compiler=compiler, result=result)\n"
     ]
    },
    {
     "data": {
      "text/html": [
       "<div>\n",
       "<style scoped>\n",
       "    .dataframe tbody tr th:only-of-type {\n",
       "        vertical-align: middle;\n",
       "    }\n",
       "\n",
       "    .dataframe tbody tr th {\n",
       "        vertical-align: top;\n",
       "    }\n",
       "\n",
       "    .dataframe thead th {\n",
       "        text-align: right;\n",
       "    }\n",
       "</style>\n",
       "<table border=\"1\" class=\"dataframe\">\n",
       "  <thead>\n",
       "    <tr style=\"text-align: right;\">\n",
       "      <th></th>\n",
       "      <th>X</th>\n",
       "      <th>fid</th>\n",
       "      <th>AREA</th>\n",
       "      <th>PERIMETER</th>\n",
       "      <th>MW_SOILS_</th>\n",
       "      <th>MW_SOILS_I</th>\n",
       "      <th>SOIL_TYPE</th>\n",
       "      <th>PRIMARY</th>\n",
       "      <th>SECONDARY</th>\n",
       "      <th>FAO_CLASSI</th>\n",
       "      <th>...</th>\n",
       "      <th>FLOODING</th>\n",
       "      <th>PONDING</th>\n",
       "      <th>SREACT1</th>\n",
       "      <th>SREACT2</th>\n",
       "      <th>SALINITY</th>\n",
       "      <th>CEC</th>\n",
       "      <th>N</th>\n",
       "      <th>P</th>\n",
       "      <th>K</th>\n",
       "      <th>bilel</th>\n",
       "    </tr>\n",
       "  </thead>\n",
       "  <tbody>\n",
       "    <tr>\n",
       "      <th>0</th>\n",
       "      <td>34.26</td>\n",
       "      <td>3910.0</td>\n",
       "      <td>1.050650e+07</td>\n",
       "      <td>32255.322</td>\n",
       "      <td>3786.0</td>\n",
       "      <td>3785.0</td>\n",
       "      <td>87</td>\n",
       "      <td>66</td>\n",
       "      <td>33</td>\n",
       "      <td>19</td>\n",
       "      <td>...</td>\n",
       "      <td>7</td>\n",
       "      <td>2</td>\n",
       "      <td>4</td>\n",
       "      <td>5.5</td>\n",
       "      <td>6</td>\n",
       "      <td>0</td>\n",
       "      <td>5</td>\n",
       "      <td>0</td>\n",
       "      <td>0</td>\n",
       "      <td>2</td>\n",
       "    </tr>\n",
       "    <tr>\n",
       "      <th>1</th>\n",
       "      <td>34.26</td>\n",
       "      <td>3910.0</td>\n",
       "      <td>1.050650e+07</td>\n",
       "      <td>32255.322</td>\n",
       "      <td>3786.0</td>\n",
       "      <td>3785.0</td>\n",
       "      <td>87</td>\n",
       "      <td>66</td>\n",
       "      <td>33</td>\n",
       "      <td>19</td>\n",
       "      <td>...</td>\n",
       "      <td>7</td>\n",
       "      <td>2</td>\n",
       "      <td>4</td>\n",
       "      <td>5.5</td>\n",
       "      <td>6</td>\n",
       "      <td>0</td>\n",
       "      <td>5</td>\n",
       "      <td>0</td>\n",
       "      <td>0</td>\n",
       "      <td>2</td>\n",
       "    </tr>\n",
       "    <tr>\n",
       "      <th>2</th>\n",
       "      <td>34.26</td>\n",
       "      <td>3910.0</td>\n",
       "      <td>1.050650e+07</td>\n",
       "      <td>32255.322</td>\n",
       "      <td>3786.0</td>\n",
       "      <td>3785.0</td>\n",
       "      <td>87</td>\n",
       "      <td>66</td>\n",
       "      <td>33</td>\n",
       "      <td>19</td>\n",
       "      <td>...</td>\n",
       "      <td>7</td>\n",
       "      <td>2</td>\n",
       "      <td>4</td>\n",
       "      <td>5.5</td>\n",
       "      <td>6</td>\n",
       "      <td>0</td>\n",
       "      <td>5</td>\n",
       "      <td>0</td>\n",
       "      <td>0</td>\n",
       "      <td>2</td>\n",
       "    </tr>\n",
       "    <tr>\n",
       "      <th>3</th>\n",
       "      <td>34.26</td>\n",
       "      <td>3915.0</td>\n",
       "      <td>1.653534e+06</td>\n",
       "      <td>5815.810</td>\n",
       "      <td>3773.0</td>\n",
       "      <td>3772.0</td>\n",
       "      <td>80</td>\n",
       "      <td>61</td>\n",
       "      <td>33</td>\n",
       "      <td>6</td>\n",
       "      <td>...</td>\n",
       "      <td>7</td>\n",
       "      <td>2</td>\n",
       "      <td>4</td>\n",
       "      <td>5.5</td>\n",
       "      <td>6</td>\n",
       "      <td>0</td>\n",
       "      <td>5</td>\n",
       "      <td>0</td>\n",
       "      <td>0</td>\n",
       "      <td>2</td>\n",
       "    </tr>\n",
       "    <tr>\n",
       "      <th>4</th>\n",
       "      <td>34.26</td>\n",
       "      <td>3915.0</td>\n",
       "      <td>1.653534e+06</td>\n",
       "      <td>5815.810</td>\n",
       "      <td>3773.0</td>\n",
       "      <td>3772.0</td>\n",
       "      <td>80</td>\n",
       "      <td>61</td>\n",
       "      <td>33</td>\n",
       "      <td>6</td>\n",
       "      <td>...</td>\n",
       "      <td>7</td>\n",
       "      <td>2</td>\n",
       "      <td>4</td>\n",
       "      <td>5.5</td>\n",
       "      <td>6</td>\n",
       "      <td>0</td>\n",
       "      <td>5</td>\n",
       "      <td>0</td>\n",
       "      <td>0</td>\n",
       "      <td>2</td>\n",
       "    </tr>\n",
       "  </tbody>\n",
       "</table>\n",
       "<p>5 rows × 35 columns</p>\n",
       "</div>"
      ],
      "text/plain": [
       "       X     fid          AREA  PERIMETER  MW_SOILS_  MW_SOILS_I  SOIL_TYPE  \\\n",
       "0  34.26  3910.0  1.050650e+07  32255.322     3786.0      3785.0         87   \n",
       "1  34.26  3910.0  1.050650e+07  32255.322     3786.0      3785.0         87   \n",
       "2  34.26  3910.0  1.050650e+07  32255.322     3786.0      3785.0         87   \n",
       "3  34.26  3915.0  1.653534e+06   5815.810     3773.0      3772.0         80   \n",
       "4  34.26  3915.0  1.653534e+06   5815.810     3773.0      3772.0         80   \n",
       "\n",
       "   PRIMARY  SECONDARY  FAO_CLASSI  ...  FLOODING  PONDING  SREACT1  SREACT2  \\\n",
       "0       66         33          19  ...         7        2        4      5.5   \n",
       "1       66         33          19  ...         7        2        4      5.5   \n",
       "2       66         33          19  ...         7        2        4      5.5   \n",
       "3       61         33           6  ...         7        2        4      5.5   \n",
       "4       61         33           6  ...         7        2        4      5.5   \n",
       "\n",
       "   SALINITY  CEC  N  P  K  bilel  \n",
       "0         6    0  5  0  0      2  \n",
       "1         6    0  5  0  0      2  \n",
       "2         6    0  5  0  0      2  \n",
       "3         6    0  5  0  0      2  \n",
       "4         6    0  5  0  0      2  \n",
       "\n",
       "[5 rows x 35 columns]"
      ]
     },
     "execution_count": 10,
     "metadata": {},
     "output_type": "execute_result"
    }
   ],
   "source": [
    "soil = pd.read_csv(\"../input/soill-data/soil_data.txt\", delimiter=\"\\t\")\n",
    "for i in soil.columns:\n",
    "    soil[str(i)].fillna(method='ffill', inplace=True)\n",
    "    soil[str(i)].fillna(method='bfill', inplace=True)\n",
    "obj_list=[]\n",
    "for i in soil.columns :\n",
    "    if soil[i].dtype == \"O\" :\n",
    "        obj_list.append(i)\n",
    "soil[obj_list] = le_encoder(soil[obj_list].astype(str))\n",
    "soil.head()"
   ]
  },
  {
   "cell_type": "markdown",
   "metadata": {},
   "source": [
    "After Some Tests and Data explorations, we found that the following Features are the most important ones"
   ]
  },
  {
   "cell_type": "code",
   "execution_count": 11,
   "metadata": {},
   "outputs": [
    {
     "data": {
      "text/html": [
       "<div>\n",
       "<style scoped>\n",
       "    .dataframe tbody tr th:only-of-type {\n",
       "        vertical-align: middle;\n",
       "    }\n",
       "\n",
       "    .dataframe tbody tr th {\n",
       "        vertical-align: top;\n",
       "    }\n",
       "\n",
       "    .dataframe thead th {\n",
       "        text-align: right;\n",
       "    }\n",
       "</style>\n",
       "<table border=\"1\" class=\"dataframe\">\n",
       "  <thead>\n",
       "    <tr style=\"text-align: right;\">\n",
       "      <th></th>\n",
       "      <th>SOIL_TYPE</th>\n",
       "      <th>PRIMARY</th>\n",
       "      <th>SECONDARY</th>\n",
       "      <th>DRAINAGE</th>\n",
       "      <th>FLOODING</th>\n",
       "      <th>PONDING</th>\n",
       "      <th>EROSION</th>\n",
       "      <th>K</th>\n",
       "      <th>SREACT1</th>\n",
       "      <th>SDESC1_SDE</th>\n",
       "      <th>ALT2</th>\n",
       "      <th>COLOR</th>\n",
       "      <th>SOIL_GROUP</th>\n",
       "    </tr>\n",
       "  </thead>\n",
       "  <tbody>\n",
       "    <tr>\n",
       "      <th>0</th>\n",
       "      <td>87</td>\n",
       "      <td>66</td>\n",
       "      <td>33</td>\n",
       "      <td>6</td>\n",
       "      <td>7</td>\n",
       "      <td>2</td>\n",
       "      <td>8</td>\n",
       "      <td>0</td>\n",
       "      <td>4</td>\n",
       "      <td>56</td>\n",
       "      <td>150.0</td>\n",
       "      <td>5</td>\n",
       "      <td>8</td>\n",
       "    </tr>\n",
       "    <tr>\n",
       "      <th>1</th>\n",
       "      <td>87</td>\n",
       "      <td>66</td>\n",
       "      <td>33</td>\n",
       "      <td>6</td>\n",
       "      <td>7</td>\n",
       "      <td>2</td>\n",
       "      <td>8</td>\n",
       "      <td>0</td>\n",
       "      <td>4</td>\n",
       "      <td>56</td>\n",
       "      <td>150.0</td>\n",
       "      <td>5</td>\n",
       "      <td>8</td>\n",
       "    </tr>\n",
       "    <tr>\n",
       "      <th>2</th>\n",
       "      <td>87</td>\n",
       "      <td>66</td>\n",
       "      <td>33</td>\n",
       "      <td>6</td>\n",
       "      <td>7</td>\n",
       "      <td>2</td>\n",
       "      <td>8</td>\n",
       "      <td>0</td>\n",
       "      <td>4</td>\n",
       "      <td>56</td>\n",
       "      <td>150.0</td>\n",
       "      <td>5</td>\n",
       "      <td>8</td>\n",
       "    </tr>\n",
       "    <tr>\n",
       "      <th>3</th>\n",
       "      <td>80</td>\n",
       "      <td>61</td>\n",
       "      <td>33</td>\n",
       "      <td>6</td>\n",
       "      <td>7</td>\n",
       "      <td>2</td>\n",
       "      <td>8</td>\n",
       "      <td>0</td>\n",
       "      <td>4</td>\n",
       "      <td>21</td>\n",
       "      <td>150.0</td>\n",
       "      <td>5</td>\n",
       "      <td>8</td>\n",
       "    </tr>\n",
       "    <tr>\n",
       "      <th>4</th>\n",
       "      <td>80</td>\n",
       "      <td>61</td>\n",
       "      <td>33</td>\n",
       "      <td>6</td>\n",
       "      <td>7</td>\n",
       "      <td>2</td>\n",
       "      <td>8</td>\n",
       "      <td>0</td>\n",
       "      <td>4</td>\n",
       "      <td>21</td>\n",
       "      <td>150.0</td>\n",
       "      <td>5</td>\n",
       "      <td>8</td>\n",
       "    </tr>\n",
       "  </tbody>\n",
       "</table>\n",
       "</div>"
      ],
      "text/plain": [
       "   SOIL_TYPE  PRIMARY  SECONDARY  DRAINAGE  FLOODING  PONDING  EROSION  K  \\\n",
       "0         87       66         33         6         7        2        8  0   \n",
       "1         87       66         33         6         7        2        8  0   \n",
       "2         87       66         33         6         7        2        8  0   \n",
       "3         80       61         33         6         7        2        8  0   \n",
       "4         80       61         33         6         7        2        8  0   \n",
       "\n",
       "   SREACT1  SDESC1_SDE   ALT2  COLOR  SOIL_GROUP  \n",
       "0        4          56  150.0      5           8  \n",
       "1        4          56  150.0      5           8  \n",
       "2        4          56  150.0      5           8  \n",
       "3        4          21  150.0      5           8  \n",
       "4        4          21  150.0      5           8  "
      ]
     },
     "execution_count": 11,
     "metadata": {},
     "output_type": "execute_result"
    }
   ],
   "source": [
    "soil_important_feats = ['SOIL_TYPE',\n",
    "        'PRIMARY', 'SECONDARY','DRAINAGE', 'FLOODING', 'PONDING','EROSION','K', 'SREACT1',\n",
    "        'SDESC1_SDE', 'ALT2', 'COLOR','SOIL_GROUP']\n",
    "\n",
    "soil = soil[soil_important_feats]\n",
    "soil.head()"
   ]
  },
  {
   "cell_type": "markdown",
   "metadata": {},
   "source": [
    "Now, let's merge with Train_Test Data : "
   ]
  },
  {
   "cell_type": "code",
   "execution_count": 12,
   "metadata": {},
   "outputs": [
    {
     "name": "stdout",
     "output_type": "stream",
     "text": [
      "(32932, 24)\n",
      "(32932, 37)\n"
     ]
    }
   ],
   "source": [
    "soil = pd.concat([soil, soil], 0).reset_index(drop=True)\n",
    "print(full_data.shape)\n",
    "full_data = pd.concat([full_data, soil], 1)\n",
    "print(full_data.shape)"
   ]
  },
  {
   "cell_type": "code",
   "execution_count": null,
   "metadata": {},
   "outputs": [],
   "source": []
  },
  {
   "cell_type": "raw",
   "metadata": {},
   "source": [
    "* Now, let's add SOTER data : **So**il and **Ter**rain Properties.\n",
    "* Just like the previous file, I've downloaded the Soter data from **https://www.isric.org** Website and then did the Aggregation using DivaGIS Software to finally get : **soter.txt**\n",
    "* You can find this data on the Following Link : \n",
    "http://geonode.isric.org/uploaded/documents/SOTER_MW.zip (file attached with the notebook)"
   ]
  },
  {
   "cell_type": "code",
   "execution_count": 13,
   "metadata": {},
   "outputs": [
    {
     "name": "stdout",
     "output_type": "stream",
     "text": [
      "(32932, 14)\n"
     ]
    },
    {
     "data": {
      "text/html": [
       "<div>\n",
       "<style scoped>\n",
       "    .dataframe tbody tr th:only-of-type {\n",
       "        vertical-align: middle;\n",
       "    }\n",
       "\n",
       "    .dataframe tbody tr th {\n",
       "        vertical-align: top;\n",
       "    }\n",
       "\n",
       "    .dataframe thead th {\n",
       "        text-align: right;\n",
       "    }\n",
       "</style>\n",
       "<table border=\"1\" class=\"dataframe\">\n",
       "  <thead>\n",
       "    <tr style=\"text-align: right;\">\n",
       "      <th></th>\n",
       "      <th>X</th>\n",
       "      <th>FID_</th>\n",
       "      <th>AREA</th>\n",
       "      <th>PERIMETER</th>\n",
       "      <th>FIN_</th>\n",
       "      <th>FIN_ID</th>\n",
       "      <th>SUID</th>\n",
       "      <th>ISOCSUID</th>\n",
       "      <th>MW_LNDFRM</th>\n",
       "      <th>MW_LTH</th>\n",
       "      <th>MW_FAO88</th>\n",
       "      <th>MW_CLS_WRB</th>\n",
       "      <th>MW_WRB_CD</th>\n",
       "      <th>MW_WRB_RSG</th>\n",
       "    </tr>\n",
       "  </thead>\n",
       "  <tbody>\n",
       "    <tr>\n",
       "      <th>0</th>\n",
       "      <td>34.26</td>\n",
       "      <td>0.0</td>\n",
       "      <td>23.717051</td>\n",
       "      <td>0.198345</td>\n",
       "      <td>1384.0</td>\n",
       "      <td>1379.0</td>\n",
       "      <td>204.0</td>\n",
       "      <td>MW204</td>\n",
       "      <td>TH</td>\n",
       "      <td>II2</td>\n",
       "      <td>LPe</td>\n",
       "      <td>Eutric Leptosol</td>\n",
       "      <td>LPeu</td>\n",
       "      <td>LP</td>\n",
       "    </tr>\n",
       "    <tr>\n",
       "      <th>1</th>\n",
       "      <td>34.26</td>\n",
       "      <td>0.0</td>\n",
       "      <td>23.717051</td>\n",
       "      <td>0.198345</td>\n",
       "      <td>1384.0</td>\n",
       "      <td>1379.0</td>\n",
       "      <td>204.0</td>\n",
       "      <td>MW204</td>\n",
       "      <td>TH</td>\n",
       "      <td>II2</td>\n",
       "      <td>LPe</td>\n",
       "      <td>Eutric Leptosol</td>\n",
       "      <td>LPeu</td>\n",
       "      <td>LP</td>\n",
       "    </tr>\n",
       "    <tr>\n",
       "      <th>2</th>\n",
       "      <td>34.26</td>\n",
       "      <td>0.0</td>\n",
       "      <td>23.717051</td>\n",
       "      <td>0.198345</td>\n",
       "      <td>1384.0</td>\n",
       "      <td>1379.0</td>\n",
       "      <td>204.0</td>\n",
       "      <td>MW204</td>\n",
       "      <td>TH</td>\n",
       "      <td>II2</td>\n",
       "      <td>LPe</td>\n",
       "      <td>Eutric Leptosol</td>\n",
       "      <td>LPeu</td>\n",
       "      <td>LP</td>\n",
       "    </tr>\n",
       "    <tr>\n",
       "      <th>3</th>\n",
       "      <td>34.26</td>\n",
       "      <td>0.0</td>\n",
       "      <td>23.717051</td>\n",
       "      <td>0.198345</td>\n",
       "      <td>1384.0</td>\n",
       "      <td>1379.0</td>\n",
       "      <td>204.0</td>\n",
       "      <td>MW204</td>\n",
       "      <td>TH</td>\n",
       "      <td>II2</td>\n",
       "      <td>LPe</td>\n",
       "      <td>Eutric Leptosol</td>\n",
       "      <td>LPeu</td>\n",
       "      <td>LP</td>\n",
       "    </tr>\n",
       "    <tr>\n",
       "      <th>4</th>\n",
       "      <td>34.26</td>\n",
       "      <td>0.0</td>\n",
       "      <td>70.514440</td>\n",
       "      <td>0.435616</td>\n",
       "      <td>1377.0</td>\n",
       "      <td>1372.0</td>\n",
       "      <td>206.0</td>\n",
       "      <td>MW206</td>\n",
       "      <td>SP</td>\n",
       "      <td>SC4</td>\n",
       "      <td>CMe</td>\n",
       "      <td>Eutric  Paraleptic Cambisol</td>\n",
       "      <td>CMler.eu</td>\n",
       "      <td>CM</td>\n",
       "    </tr>\n",
       "  </tbody>\n",
       "</table>\n",
       "</div>"
      ],
      "text/plain": [
       "       X  FID_       AREA  PERIMETER    FIN_  FIN_ID   SUID ISOCSUID  \\\n",
       "0  34.26   0.0  23.717051   0.198345  1384.0  1379.0  204.0    MW204   \n",
       "1  34.26   0.0  23.717051   0.198345  1384.0  1379.0  204.0    MW204   \n",
       "2  34.26   0.0  23.717051   0.198345  1384.0  1379.0  204.0    MW204   \n",
       "3  34.26   0.0  23.717051   0.198345  1384.0  1379.0  204.0    MW204   \n",
       "4  34.26   0.0  70.514440   0.435616  1377.0  1372.0  206.0    MW206   \n",
       "\n",
       "  MW_LNDFRM MW_LTH MW_FAO88                   MW_CLS_WRB MW_WRB_CD MW_WRB_RSG  \n",
       "0        TH    II2      LPe              Eutric Leptosol      LPeu         LP  \n",
       "1        TH    II2      LPe              Eutric Leptosol      LPeu         LP  \n",
       "2        TH    II2      LPe              Eutric Leptosol      LPeu         LP  \n",
       "3        TH    II2      LPe              Eutric Leptosol      LPeu         LP  \n",
       "4        SP    SC4      CMe  Eutric  Paraleptic Cambisol  CMler.eu         CM  "
      ]
     },
     "execution_count": 13,
     "metadata": {},
     "output_type": "execute_result"
    }
   ],
   "source": [
    "soter = pd.read_csv(\"../input/soter-data/soter.txt\", delimiter=\"\\t\")\n",
    "soter = pd.concat([soter, soter], 0).reset_index(drop=True)\n",
    "print(soter.shape)\n",
    "soter.head()"
   ]
  },
  {
   "cell_type": "markdown",
   "metadata": {},
   "source": [
    "After Some Explorations and Test, we found that the following Features are the Most Important : "
   ]
  },
  {
   "cell_type": "code",
   "execution_count": 14,
   "metadata": {},
   "outputs": [],
   "source": [
    "import matplotlib.pyplot as plt\n",
    "def plot_var_target_corr(df,feature,TARGET) :\n",
    "    var = df.groupby(str(feature)).agg({\n",
    "    TARGET : 'mean'\n",
    "    })\n",
    "    var = var.astype('float')\n",
    "    plt.figure(figsize=(16,8))\n",
    "    plt.title(TARGET+\"_\"+str(feature)+\"_relation\")\n",
    "    plt.xlabel(str(feature))\n",
    "    plt.ylabel(TARGET)\n",
    "    plt.grid(True)\n",
    "    plt.plot(var)"
   ]
  },
  {
   "cell_type": "code",
   "execution_count": 16,
   "metadata": {},
   "outputs": [
    {
     "name": "stdout",
     "output_type": "stream",
     "text": [
      "(32932, 37)\n",
      "(32932, 39)\n"
     ]
    }
   ],
   "source": [
    "soter_important_feats = ['MW_LNDFRM', 'MW_LTH']\n",
    "\n",
    "print(full_data.shape)\n",
    "full_data[soter_important_feats] = soter[soter_important_feats]\n",
    "print(full_data.shape)"
   ]
  },
  {
   "cell_type": "code",
   "execution_count": 17,
   "metadata": {},
   "outputs": [
    {
     "data": {
      "image/png": "[encoded data removed]",
      "text/plain": [
       "<Figure size 1152x576 with 1 Axes>"
      ]
     },
     "metadata": {
      "needs_background": "light"
     },
     "output_type": "display_data"
    }
   ],
   "source": [
    "plot_var_target_corr(full_data, \"MW_LNDFRM\", \"target_2015\")"
   ]
  },
  {
   "cell_type": "markdown",
   "metadata": {},
   "source": [
    "As we can see in the Plot Above, the Average Flood value is relatively high for the category \"LD\""
   ]
  },
  {
   "cell_type": "code",
   "execution_count": 18,
   "metadata": {},
   "outputs": [
    {
     "data": {
      "image/png": "[encoded data removed]",
      "text/plain": [
       "<Figure size 1152x576 with 1 Axes>"
      ]
     },
     "metadata": {
      "needs_background": "light"
     },
     "output_type": "display_data"
    }
   ],
   "source": [
    "plot_var_target_corr(full_data, \"MW_LTH\", \"target_2015\")"
   ]
  },
  {
   "cell_type": "markdown",
   "metadata": {},
   "source": [
    "Same here, for the \"MW_LTH\" feature, the pattern is clear : \n",
    "* we have higher risk of Flood when MW_LTH is either UF2 or UL1"
   ]
  },
  {
   "cell_type": "code",
   "execution_count": 19,
   "metadata": {},
   "outputs": [],
   "source": [
    "from sklearn.preprocessing import LabelEncoder\n",
    "def le_enc(df, feat) :\n",
    "    le = LabelEncoder()\n",
    "    for i in feat :\n",
    "        df[str(i)+'_le'] = le.fit_transform(df[i].astype(str))\n",
    "    return df"
   ]
  },
  {
   "cell_type": "code",
   "execution_count": 20,
   "metadata": {},
   "outputs": [],
   "source": [
    "full_data = le_enc(full_data, ['MW_LNDFRM'])\n",
    "full_data = le_enc(full_data, ['MW_LTH'])"
   ]
  },
  {
   "cell_type": "code",
   "execution_count": 21,
   "metadata": {},
   "outputs": [
    {
     "data": {
      "text/html": [
       "<div>\n",
       "<style scoped>\n",
       "    .dataframe tbody tr th:only-of-type {\n",
       "        vertical-align: middle;\n",
       "    }\n",
       "\n",
       "    .dataframe tbody tr th {\n",
       "        vertical-align: top;\n",
       "    }\n",
       "\n",
       "    .dataframe thead th {\n",
       "        text-align: right;\n",
       "    }\n",
       "</style>\n",
       "<table border=\"1\" class=\"dataframe\">\n",
       "  <thead>\n",
       "    <tr style=\"text-align: right;\">\n",
       "      <th></th>\n",
       "      <th>X</th>\n",
       "      <th>Y</th>\n",
       "      <th>target_2015</th>\n",
       "      <th>elevation</th>\n",
       "      <th>precip-17</th>\n",
       "      <th>precip-16</th>\n",
       "      <th>precip-15</th>\n",
       "      <th>precip-14</th>\n",
       "      <th>precip-13</th>\n",
       "      <th>precip-12</th>\n",
       "      <th>...</th>\n",
       "      <th>K</th>\n",
       "      <th>SREACT1</th>\n",
       "      <th>SDESC1_SDE</th>\n",
       "      <th>ALT2</th>\n",
       "      <th>COLOR</th>\n",
       "      <th>SOIL_GROUP</th>\n",
       "      <th>MW_LNDFRM</th>\n",
       "      <th>MW_LTH</th>\n",
       "      <th>MW_LNDFRM_le</th>\n",
       "      <th>MW_LTH_le</th>\n",
       "    </tr>\n",
       "  </thead>\n",
       "  <tbody>\n",
       "    <tr>\n",
       "      <th>0</th>\n",
       "      <td>34.26</td>\n",
       "      <td>-15.91</td>\n",
       "      <td>0.0</td>\n",
       "      <td>887.764222</td>\n",
       "      <td>0.0</td>\n",
       "      <td>0.0</td>\n",
       "      <td>0.0</td>\n",
       "      <td>14.844025</td>\n",
       "      <td>14.552823</td>\n",
       "      <td>12.237766</td>\n",
       "      <td>...</td>\n",
       "      <td>0</td>\n",
       "      <td>4</td>\n",
       "      <td>56</td>\n",
       "      <td>150.0</td>\n",
       "      <td>5</td>\n",
       "      <td>8</td>\n",
       "      <td>TH</td>\n",
       "      <td>II2</td>\n",
       "      <td>8</td>\n",
       "      <td>2</td>\n",
       "    </tr>\n",
       "    <tr>\n",
       "      <th>1</th>\n",
       "      <td>34.26</td>\n",
       "      <td>-15.90</td>\n",
       "      <td>0.0</td>\n",
       "      <td>743.403912</td>\n",
       "      <td>0.0</td>\n",
       "      <td>0.0</td>\n",
       "      <td>0.0</td>\n",
       "      <td>14.844025</td>\n",
       "      <td>14.552823</td>\n",
       "      <td>12.237766</td>\n",
       "      <td>...</td>\n",
       "      <td>0</td>\n",
       "      <td>4</td>\n",
       "      <td>56</td>\n",
       "      <td>150.0</td>\n",
       "      <td>5</td>\n",
       "      <td>8</td>\n",
       "      <td>TH</td>\n",
       "      <td>II2</td>\n",
       "      <td>8</td>\n",
       "      <td>2</td>\n",
       "    </tr>\n",
       "    <tr>\n",
       "      <th>2</th>\n",
       "      <td>34.26</td>\n",
       "      <td>-15.89</td>\n",
       "      <td>0.0</td>\n",
       "      <td>565.728343</td>\n",
       "      <td>0.0</td>\n",
       "      <td>0.0</td>\n",
       "      <td>0.0</td>\n",
       "      <td>14.844025</td>\n",
       "      <td>14.552823</td>\n",
       "      <td>12.237766</td>\n",
       "      <td>...</td>\n",
       "      <td>0</td>\n",
       "      <td>4</td>\n",
       "      <td>56</td>\n",
       "      <td>150.0</td>\n",
       "      <td>5</td>\n",
       "      <td>8</td>\n",
       "      <td>TH</td>\n",
       "      <td>II2</td>\n",
       "      <td>8</td>\n",
       "      <td>2</td>\n",
       "    </tr>\n",
       "    <tr>\n",
       "      <th>3</th>\n",
       "      <td>34.26</td>\n",
       "      <td>-15.88</td>\n",
       "      <td>0.0</td>\n",
       "      <td>443.392774</td>\n",
       "      <td>0.0</td>\n",
       "      <td>0.0</td>\n",
       "      <td>0.0</td>\n",
       "      <td>14.844025</td>\n",
       "      <td>14.552823</td>\n",
       "      <td>12.237766</td>\n",
       "      <td>...</td>\n",
       "      <td>0</td>\n",
       "      <td>4</td>\n",
       "      <td>21</td>\n",
       "      <td>150.0</td>\n",
       "      <td>5</td>\n",
       "      <td>8</td>\n",
       "      <td>TH</td>\n",
       "      <td>II2</td>\n",
       "      <td>8</td>\n",
       "      <td>2</td>\n",
       "    </tr>\n",
       "    <tr>\n",
       "      <th>4</th>\n",
       "      <td>34.26</td>\n",
       "      <td>-15.87</td>\n",
       "      <td>0.0</td>\n",
       "      <td>437.443428</td>\n",
       "      <td>0.0</td>\n",
       "      <td>0.0</td>\n",
       "      <td>0.0</td>\n",
       "      <td>14.844025</td>\n",
       "      <td>14.552823</td>\n",
       "      <td>12.237766</td>\n",
       "      <td>...</td>\n",
       "      <td>0</td>\n",
       "      <td>4</td>\n",
       "      <td>21</td>\n",
       "      <td>150.0</td>\n",
       "      <td>5</td>\n",
       "      <td>8</td>\n",
       "      <td>SP</td>\n",
       "      <td>SC4</td>\n",
       "      <td>7</td>\n",
       "      <td>7</td>\n",
       "    </tr>\n",
       "  </tbody>\n",
       "</table>\n",
       "<p>5 rows × 41 columns</p>\n",
       "</div>"
      ],
      "text/plain": [
       "       X      Y  target_2015   elevation  precip-17  precip-16  precip-15  \\\n",
       "0  34.26 -15.91          0.0  887.764222        0.0        0.0        0.0   \n",
       "1  34.26 -15.90          0.0  743.403912        0.0        0.0        0.0   \n",
       "2  34.26 -15.89          0.0  565.728343        0.0        0.0        0.0   \n",
       "3  34.26 -15.88          0.0  443.392774        0.0        0.0        0.0   \n",
       "4  34.26 -15.87          0.0  437.443428        0.0        0.0        0.0   \n",
       "\n",
       "   precip-14  precip-13  precip-12  ...  K  SREACT1  SDESC1_SDE   ALT2  COLOR  \\\n",
       "0  14.844025  14.552823  12.237766  ...  0        4          56  150.0      5   \n",
       "1  14.844025  14.552823  12.237766  ...  0        4          56  150.0      5   \n",
       "2  14.844025  14.552823  12.237766  ...  0        4          56  150.0      5   \n",
       "3  14.844025  14.552823  12.237766  ...  0        4          21  150.0      5   \n",
       "4  14.844025  14.552823  12.237766  ...  0        4          21  150.0      5   \n",
       "\n",
       "   SOIL_GROUP  MW_LNDFRM  MW_LTH  MW_LNDFRM_le  MW_LTH_le  \n",
       "0           8         TH     II2             8          2  \n",
       "1           8         TH     II2             8          2  \n",
       "2           8         TH     II2             8          2  \n",
       "3           8         TH     II2             8          2  \n",
       "4           8         SP     SC4             7          7  \n",
       "\n",
       "[5 rows x 41 columns]"
      ]
     },
     "execution_count": 21,
     "metadata": {},
     "output_type": "execute_result"
    }
   ],
   "source": [
    "full_data.head()"
   ]
  },
  {
   "cell_type": "markdown",
   "metadata": {},
   "source": [
    "* The most Floos=ding Factors (Next to Precipitations) is obviously the Distance to Large Rivers and Water Areas (Especially Flooding Rivers).\n",
    "* So we tried to extract, from Malawi Map in Masdap website, the the points relative to these variables."
   ]
  },
  {
   "cell_type": "code",
   "execution_count": 22,
   "metadata": {},
   "outputs": [],
   "source": [
    "water1 = (35.72417, -15.34428)\n",
    "water2 = (34.80832, -16.07994)\n",
    "water3 = (35.11360, -16.47703)\n",
    "\n",
    "water4 = (34.89457, -16.11494)\n",
    "water5 = (34.81079, -16.15970)\n",
    "water6 = (34.93818, -16.26414)\n",
    "water7 = (35.73581, -15.50438)\n",
    "water8 = (35.14247, -16.46957)\n",
    "water9 = (35.07820, -16.51089)\n",
    "water10 = (35.10115, -16.49826)\n",
    "water11 = (35.11492, -16.47760)"
   ]
  },
  {
   "cell_type": "code",
   "execution_count": 23,
   "metadata": {},
   "outputs": [],
   "source": [
    "# The idea is to Calculate the Distance from these points to \n",
    "# all the Points in the Train and then Take the Min Distance.\n",
    "# To accomplish that we will use Vincenty Library : "
   ]
  },
  {
   "cell_type": "code",
   "execution_count": 24,
   "metadata": {},
   "outputs": [
    {
     "name": "stdout",
     "output_type": "stream",
     "text": [
      "Collecting vincenty\n",
      "  Downloading vincenty-0.1.4.tar.gz (2.8 kB)\n",
      "Building wheels for collected packages: vincenty\n",
      "  Building wheel for vincenty (setup.py) ... \u001b[?25ldone\n",
      "\u001b[?25h  Created wheel for vincenty: filename=vincenty-0.1.4-py3-none-any.whl size=3079 sha256=031ac0009394837989a74f6ce2f2d6ad0e05d163210dcfd986ffab2aad458e2f\n",
      "  Stored in directory: /root/.cache/pip/wheels/2f/4d/df/6e2ce31c63c93508b38ed9098c1483e7616b55a6ddabcd2f5b\n",
      "Successfully built vincenty\n",
      "Installing collected packages: vincenty\n",
      "Successfully installed vincenty-0.1.4\n",
      "\u001b[33mWARNING: You are using pip version 20.1; however, version 20.1.1 is available.\n",
      "You should consider upgrading via the '/opt/conda/bin/python3.7 -m pip install --upgrade pip' command.\u001b[0m\n"
     ]
    }
   ],
   "source": [
    "!pip install vincenty"
   ]
  },
  {
   "cell_type": "code",
   "execution_count": 25,
   "metadata": {},
   "outputs": [],
   "source": [
    "from vincenty import vincenty"
   ]
  },
  {
   "cell_type": "code",
   "execution_count": 26,
   "metadata": {},
   "outputs": [
    {
     "name": "stdout",
     "output_type": "stream",
     "text": [
      "Processing time : 25.79565954208374\n"
     ]
    }
   ],
   "source": [
    "start = time.time()\n",
    "full_data[\"distance_to_water1\"] = full_data.apply(lambda row : vincenty((row[\"X\"],row[\"Y\"]),water1),axis=1)\n",
    "full_data[\"distance_to_water2\"] = full_data.apply(lambda row : vincenty((row[\"X\"],row[\"Y\"]),water2),axis=1)\n",
    "full_data[\"distance_to_water3\"] = full_data.apply(lambda row : vincenty((row[\"X\"],row[\"Y\"]),water3),axis=1)\n",
    "\n",
    "full_data[\"distance_to_water4\"] = full_data.apply(lambda row : vincenty((row[\"X\"],row[\"Y\"]),water4),axis=1)\n",
    "full_data[\"distance_to_water5\"] = full_data.apply(lambda row : vincenty((row[\"X\"],row[\"Y\"]),water5),axis=1)\n",
    "full_data[\"distance_to_water6\"] = full_data.apply(lambda row : vincenty((row[\"X\"],row[\"Y\"]),water6),axis=1)\n",
    "full_data[\"distance_to_water7\"] = full_data.apply(lambda row : vincenty((row[\"X\"],row[\"Y\"]),water7),axis=1)\n",
    "full_data[\"distance_to_water8\"] = full_data.apply(lambda row : vincenty((row[\"X\"],row[\"Y\"]),water8),axis=1)\n",
    "full_data[\"distance_to_water9\"] = full_data.apply(lambda row : vincenty((row[\"X\"],row[\"Y\"]),water9),axis=1)\n",
    "full_data[\"distance_to_water10\"] = full_data.apply(lambda row : vincenty((row[\"X\"],row[\"Y\"]),water10),axis=1)\n",
    "full_data[\"distance_to_water11\"] = full_data.apply(lambda row : vincenty((row[\"X\"],row[\"Y\"]),water11),axis=1)\n",
    "print(\"Processing time : {}\".format(time.time() - start))"
   ]
  },
  {
   "cell_type": "code",
   "execution_count": 27,
   "metadata": {},
   "outputs": [
    {
     "data": {
      "text/html": [
       "<div>\n",
       "<style scoped>\n",
       "    .dataframe tbody tr th:only-of-type {\n",
       "        vertical-align: middle;\n",
       "    }\n",
       "\n",
       "    .dataframe tbody tr th {\n",
       "        vertical-align: top;\n",
       "    }\n",
       "\n",
       "    .dataframe thead th {\n",
       "        text-align: right;\n",
       "    }\n",
       "</style>\n",
       "<table border=\"1\" class=\"dataframe\">\n",
       "  <thead>\n",
       "    <tr style=\"text-align: right;\">\n",
       "      <th></th>\n",
       "      <th>X</th>\n",
       "      <th>Y</th>\n",
       "      <th>target_2015</th>\n",
       "      <th>elevation</th>\n",
       "      <th>precip-17</th>\n",
       "      <th>precip-16</th>\n",
       "      <th>precip-15</th>\n",
       "      <th>precip-14</th>\n",
       "      <th>precip-13</th>\n",
       "      <th>precip-12</th>\n",
       "      <th>...</th>\n",
       "      <th>SREACT1</th>\n",
       "      <th>SDESC1_SDE</th>\n",
       "      <th>ALT2</th>\n",
       "      <th>COLOR</th>\n",
       "      <th>SOIL_GROUP</th>\n",
       "      <th>MW_LNDFRM</th>\n",
       "      <th>MW_LTH</th>\n",
       "      <th>MW_LNDFRM_le</th>\n",
       "      <th>MW_LTH_le</th>\n",
       "      <th>shortest_distance_to_water_area</th>\n",
       "    </tr>\n",
       "  </thead>\n",
       "  <tbody>\n",
       "    <tr>\n",
       "      <th>0</th>\n",
       "      <td>34.26</td>\n",
       "      <td>-15.91</td>\n",
       "      <td>0.0</td>\n",
       "      <td>887.764222</td>\n",
       "      <td>0.0</td>\n",
       "      <td>0.0</td>\n",
       "      <td>0.0</td>\n",
       "      <td>14.844025</td>\n",
       "      <td>14.552823</td>\n",
       "      <td>12.237766</td>\n",
       "      <td>...</td>\n",
       "      <td>4</td>\n",
       "      <td>56</td>\n",
       "      <td>150.0</td>\n",
       "      <td>5</td>\n",
       "      <td>8</td>\n",
       "      <td>TH</td>\n",
       "      <td>II2</td>\n",
       "      <td>8</td>\n",
       "      <td>2</td>\n",
       "      <td>62.795062</td>\n",
       "    </tr>\n",
       "    <tr>\n",
       "      <th>1</th>\n",
       "      <td>34.26</td>\n",
       "      <td>-15.90</td>\n",
       "      <td>0.0</td>\n",
       "      <td>743.403912</td>\n",
       "      <td>0.0</td>\n",
       "      <td>0.0</td>\n",
       "      <td>0.0</td>\n",
       "      <td>14.844025</td>\n",
       "      <td>14.552823</td>\n",
       "      <td>12.237766</td>\n",
       "      <td>...</td>\n",
       "      <td>4</td>\n",
       "      <td>56</td>\n",
       "      <td>150.0</td>\n",
       "      <td>5</td>\n",
       "      <td>8</td>\n",
       "      <td>TH</td>\n",
       "      <td>II2</td>\n",
       "      <td>8</td>\n",
       "      <td>2</td>\n",
       "      <td>63.029406</td>\n",
       "    </tr>\n",
       "    <tr>\n",
       "      <th>2</th>\n",
       "      <td>34.26</td>\n",
       "      <td>-15.89</td>\n",
       "      <td>0.0</td>\n",
       "      <td>565.728343</td>\n",
       "      <td>0.0</td>\n",
       "      <td>0.0</td>\n",
       "      <td>0.0</td>\n",
       "      <td>14.844025</td>\n",
       "      <td>14.552823</td>\n",
       "      <td>12.237766</td>\n",
       "      <td>...</td>\n",
       "      <td>4</td>\n",
       "      <td>56</td>\n",
       "      <td>150.0</td>\n",
       "      <td>5</td>\n",
       "      <td>8</td>\n",
       "      <td>TH</td>\n",
       "      <td>II2</td>\n",
       "      <td>8</td>\n",
       "      <td>2</td>\n",
       "      <td>63.276203</td>\n",
       "    </tr>\n",
       "    <tr>\n",
       "      <th>3</th>\n",
       "      <td>34.26</td>\n",
       "      <td>-15.88</td>\n",
       "      <td>0.0</td>\n",
       "      <td>443.392774</td>\n",
       "      <td>0.0</td>\n",
       "      <td>0.0</td>\n",
       "      <td>0.0</td>\n",
       "      <td>14.844025</td>\n",
       "      <td>14.552823</td>\n",
       "      <td>12.237766</td>\n",
       "      <td>...</td>\n",
       "      <td>4</td>\n",
       "      <td>21</td>\n",
       "      <td>150.0</td>\n",
       "      <td>5</td>\n",
       "      <td>8</td>\n",
       "      <td>TH</td>\n",
       "      <td>II2</td>\n",
       "      <td>8</td>\n",
       "      <td>2</td>\n",
       "      <td>63.535306</td>\n",
       "    </tr>\n",
       "    <tr>\n",
       "      <th>4</th>\n",
       "      <td>34.26</td>\n",
       "      <td>-15.87</td>\n",
       "      <td>0.0</td>\n",
       "      <td>437.443428</td>\n",
       "      <td>0.0</td>\n",
       "      <td>0.0</td>\n",
       "      <td>0.0</td>\n",
       "      <td>14.844025</td>\n",
       "      <td>14.552823</td>\n",
       "      <td>12.237766</td>\n",
       "      <td>...</td>\n",
       "      <td>4</td>\n",
       "      <td>21</td>\n",
       "      <td>150.0</td>\n",
       "      <td>5</td>\n",
       "      <td>8</td>\n",
       "      <td>SP</td>\n",
       "      <td>SC4</td>\n",
       "      <td>7</td>\n",
       "      <td>7</td>\n",
       "      <td>63.806566</td>\n",
       "    </tr>\n",
       "  </tbody>\n",
       "</table>\n",
       "<p>5 rows × 42 columns</p>\n",
       "</div>"
      ],
      "text/plain": [
       "       X      Y  target_2015   elevation  precip-17  precip-16  precip-15  \\\n",
       "0  34.26 -15.91          0.0  887.764222        0.0        0.0        0.0   \n",
       "1  34.26 -15.90          0.0  743.403912        0.0        0.0        0.0   \n",
       "2  34.26 -15.89          0.0  565.728343        0.0        0.0        0.0   \n",
       "3  34.26 -15.88          0.0  443.392774        0.0        0.0        0.0   \n",
       "4  34.26 -15.87          0.0  437.443428        0.0        0.0        0.0   \n",
       "\n",
       "   precip-14  precip-13  precip-12  ...  SREACT1  SDESC1_SDE   ALT2  COLOR  \\\n",
       "0  14.844025  14.552823  12.237766  ...        4          56  150.0      5   \n",
       "1  14.844025  14.552823  12.237766  ...        4          56  150.0      5   \n",
       "2  14.844025  14.552823  12.237766  ...        4          56  150.0      5   \n",
       "3  14.844025  14.552823  12.237766  ...        4          21  150.0      5   \n",
       "4  14.844025  14.552823  12.237766  ...        4          21  150.0      5   \n",
       "\n",
       "   SOIL_GROUP  MW_LNDFRM  MW_LTH  MW_LNDFRM_le  MW_LTH_le  \\\n",
       "0           8         TH     II2             8          2   \n",
       "1           8         TH     II2             8          2   \n",
       "2           8         TH     II2             8          2   \n",
       "3           8         TH     II2             8          2   \n",
       "4           8         SP     SC4             7          7   \n",
       "\n",
       "   shortest_distance_to_water_area  \n",
       "0                        62.795062  \n",
       "1                        63.029406  \n",
       "2                        63.276203  \n",
       "3                        63.535306  \n",
       "4                        63.806566  \n",
       "\n",
       "[5 rows x 42 columns]"
      ]
     },
     "execution_count": 27,
     "metadata": {},
     "output_type": "execute_result"
    }
   ],
   "source": [
    "water_dist_feats = ['distance_to_water1',\n",
    "       'distance_to_water2', 'distance_to_water3', 'distance_to_water4',\n",
    "       'distance_to_water5', 'distance_to_water6', 'distance_to_water7',\n",
    "       'distance_to_water8', 'distance_to_water9', 'distance_to_water10',\n",
    "       'distance_to_water11']\n",
    "\n",
    "# Here, we will take the minimum accross the X axis : \n",
    "full_data[\"shortest_distance_to_water_area\"] = full_data[water_dist_feats].min(axis=1)\n",
    "full_data = full_data.drop(water_dist_feats, 1)\n",
    "full_data.head()"
   ]
  },
  {
   "cell_type": "code",
   "execution_count": 28,
   "metadata": {},
   "outputs": [
    {
     "data": {
      "text/plain": [
       "count    32932.000000\n",
       "mean        35.018534\n",
       "std         19.549335\n",
       "min          0.091838\n",
       "25%         18.316135\n",
       "50%         34.478023\n",
       "75%         50.085552\n",
       "max         83.636713\n",
       "Name: shortest_distance_to_water_area, dtype: float64"
      ]
     },
     "execution_count": 28,
     "metadata": {},
     "output_type": "execute_result"
    }
   ],
   "source": [
    "full_data.shortest_distance_to_water_area.describe()"
   ]
  },
  {
   "cell_type": "code",
   "execution_count": null,
   "metadata": {},
   "outputs": [],
   "source": []
  },
  {
   "cell_type": "markdown",
   "metadata": {},
   "source": [
    "* We will do the same for Rivers.\n",
    "* we will input Manually some Relevant Points on the Map that describes Large Rivers."
   ]
  },
  {
   "cell_type": "code",
   "execution_count": 29,
   "metadata": {},
   "outputs": [],
   "source": [
    "river1 = (34.64799, -15.30411)\n",
    "river2 = (34.93720, -15.24443)\n",
    "river3 = (34.98770, -15.28116)\n",
    "river4 = (34.97622, -15.34772)\n",
    "river5 = (35.06115, -15.30870)\n",
    "\n",
    "river6 = (35.12771, -15.25361)\n",
    "river7 = (35.31593, -15.21918)\n",
    "river8 = (35.27921, -15.31329)\n",
    "river9 = (34.49190, -15.63923)\n",
    "river10 = (34.85227, -15.48085)\n",
    "\n",
    "river11 = (35.24018, -15.69661)\n",
    "river12 = (35.41693, -15.59103)\n",
    "river13 = (35.39168, -15.83892)\n",
    "river14 = (35.48579, -15.81368)\n",
    "river15 = (35.58449, -15.88254)\n",
    "\n",
    "river16 = (35.47890, -15.97894)\n",
    "river17 = (35.66253, -15.99042)\n",
    "river18 = (35.46972, -16.10748)\n",
    "river19 = (35.28609, -16.17864)\n",
    "river20 = (35.31593, -16.05010)\n",
    "\n",
    "river21 = (35.28150, -16.30258)\n",
    "river22 = (35.26084, -16.40358)\n",
    "river23 = (34.81325, -16.03403)\n",
    "river24 = (34.87752, -16.08682)\n",
    "river25 = (34.91425, -16.16027)\n",
    "\n",
    "river26 = (34.76275, -16.15798)\n",
    "river27 = (34.62733, -16.10289)\n",
    "river28 = (34.88670, -16.29111)\n",
    "river29 = (34.93490, -16.36456)\n",
    "river30 = (35.06115, -16.47933)\n",
    "\n",
    "river31 = (35.03819, -16.35308)\n",
    "river32 = (34.91654, -16.47703)\n",
    "river33 = (35.11394, -16.52982)\n",
    "river34 = (35.16673, -16.61934)\n",
    "river35 = (35.07492, -16.61246)"
   ]
  },
  {
   "cell_type": "code",
   "execution_count": 30,
   "metadata": {},
   "outputs": [
    {
     "name": "stdout",
     "output_type": "stream",
     "text": [
      "Processing time : 83.34101128578186\n"
     ]
    }
   ],
   "source": [
    "start = time.time()\n",
    "\n",
    "full_data[\"distance_to_river1\"] = full_data.apply(lambda row : vincenty((row[\"X\"],row[\"Y\"]),river1),axis=1)\n",
    "full_data[\"distance_to_river2\"] = full_data.apply(lambda row : vincenty((row[\"X\"],row[\"Y\"]),river2),axis=1)\n",
    "full_data[\"distance_to_river3\"] = full_data.apply(lambda row : vincenty((row[\"X\"],row[\"Y\"]),river3),axis=1)\n",
    "full_data[\"distance_to_river4\"] = full_data.apply(lambda row : vincenty((row[\"X\"],row[\"Y\"]),river4),axis=1)\n",
    "full_data[\"distance_to_river5\"] = full_data.apply(lambda row : vincenty((row[\"X\"],row[\"Y\"]),river5),axis=1)\n",
    "\n",
    "full_data[\"distance_to_river6\"] = full_data.apply(lambda row : vincenty((row[\"X\"],row[\"Y\"]),river6),axis=1)\n",
    "full_data[\"distance_to_river7\"] = full_data.apply(lambda row : vincenty((row[\"X\"],row[\"Y\"]),river7),axis=1)\n",
    "full_data[\"distance_to_river8\"] = full_data.apply(lambda row : vincenty((row[\"X\"],row[\"Y\"]),river8),axis=1)\n",
    "full_data[\"distance_to_river9\"] = full_data.apply(lambda row : vincenty((row[\"X\"],row[\"Y\"]),river9),axis=1)\n",
    "full_data[\"distance_to_river10\"] = full_data.apply(lambda row : vincenty((row[\"X\"],row[\"Y\"]),river10),axis=1)\n",
    "\n",
    "full_data[\"distance_to_river11\"] = full_data.apply(lambda row : vincenty((row[\"X\"],row[\"Y\"]),river11),axis=1)\n",
    "full_data[\"distance_to_river12\"] = full_data.apply(lambda row : vincenty((row[\"X\"],row[\"Y\"]),river12),axis=1)\n",
    "full_data[\"distance_to_river13\"] = full_data.apply(lambda row : vincenty((row[\"X\"],row[\"Y\"]),river13),axis=1)\n",
    "full_data[\"distance_to_river14\"] = full_data.apply(lambda row : vincenty((row[\"X\"],row[\"Y\"]),river14),axis=1)\n",
    "full_data[\"distance_to_river15\"] = full_data.apply(lambda row : vincenty((row[\"X\"],row[\"Y\"]),river15),axis=1)\n",
    "\n",
    "full_data[\"distance_to_river16\"] = full_data.apply(lambda row : vincenty((row[\"X\"],row[\"Y\"]),river16),axis=1)\n",
    "full_data[\"distance_to_river17\"] = full_data.apply(lambda row : vincenty((row[\"X\"],row[\"Y\"]),river17),axis=1)\n",
    "full_data[\"distance_to_river18\"] = full_data.apply(lambda row : vincenty((row[\"X\"],row[\"Y\"]),river18),axis=1)\n",
    "full_data[\"distance_to_river19\"] = full_data.apply(lambda row : vincenty((row[\"X\"],row[\"Y\"]),river19),axis=1)\n",
    "full_data[\"distance_to_river20\"] = full_data.apply(lambda row : vincenty((row[\"X\"],row[\"Y\"]),river20),axis=1)\n",
    "\n",
    "full_data[\"distance_to_river21\"] = full_data.apply(lambda row : vincenty((row[\"X\"],row[\"Y\"]),river21),axis=1)\n",
    "full_data[\"distance_to_river22\"] = full_data.apply(lambda row : vincenty((row[\"X\"],row[\"Y\"]),river22),axis=1)\n",
    "full_data[\"distance_to_river23\"] = full_data.apply(lambda row : vincenty((row[\"X\"],row[\"Y\"]),river23),axis=1)\n",
    "full_data[\"distance_to_river24\"] = full_data.apply(lambda row : vincenty((row[\"X\"],row[\"Y\"]),river24),axis=1)\n",
    "full_data[\"distance_to_river25\"] = full_data.apply(lambda row : vincenty((row[\"X\"],row[\"Y\"]),river25),axis=1)\n",
    "\n",
    "full_data[\"distance_to_river26\"] = full_data.apply(lambda row : vincenty((row[\"X\"],row[\"Y\"]),river26),axis=1)\n",
    "full_data[\"distance_to_river27\"] = full_data.apply(lambda row : vincenty((row[\"X\"],row[\"Y\"]),river27),axis=1)\n",
    "full_data[\"distance_to_river28\"] = full_data.apply(lambda row : vincenty((row[\"X\"],row[\"Y\"]),river28),axis=1)\n",
    "full_data[\"distance_to_river29\"] = full_data.apply(lambda row : vincenty((row[\"X\"],row[\"Y\"]),river29),axis=1)\n",
    "full_data[\"distance_to_river30\"] = full_data.apply(lambda row : vincenty((row[\"X\"],row[\"Y\"]),river30),axis=1)\n",
    "\n",
    "full_data[\"distance_to_river31\"] = full_data.apply(lambda row : vincenty((row[\"X\"],row[\"Y\"]),river31),axis=1)\n",
    "full_data[\"distance_to_river32\"] = full_data.apply(lambda row : vincenty((row[\"X\"],row[\"Y\"]),river32),axis=1)\n",
    "full_data[\"distance_to_river33\"] = full_data.apply(lambda row : vincenty((row[\"X\"],row[\"Y\"]),river33),axis=1)\n",
    "full_data[\"distance_to_river34\"] = full_data.apply(lambda row : vincenty((row[\"X\"],row[\"Y\"]),river34),axis=1)\n",
    "full_data[\"distance_to_river35\"] = full_data.apply(lambda row : vincenty((row[\"X\"],row[\"Y\"]),river35),axis=1)\n",
    "\n",
    "print(\"Processing time : {}\".format(time.time() - start))"
   ]
  },
  {
   "cell_type": "code",
   "execution_count": 31,
   "metadata": {},
   "outputs": [
    {
     "name": "stdout",
     "output_type": "stream",
     "text": [
      "(32932, 43)\n"
     ]
    },
    {
     "data": {
      "text/html": [
       "<div>\n",
       "<style scoped>\n",
       "    .dataframe tbody tr th:only-of-type {\n",
       "        vertical-align: middle;\n",
       "    }\n",
       "\n",
       "    .dataframe tbody tr th {\n",
       "        vertical-align: top;\n",
       "    }\n",
       "\n",
       "    .dataframe thead th {\n",
       "        text-align: right;\n",
       "    }\n",
       "</style>\n",
       "<table border=\"1\" class=\"dataframe\">\n",
       "  <thead>\n",
       "    <tr style=\"text-align: right;\">\n",
       "      <th></th>\n",
       "      <th>X</th>\n",
       "      <th>Y</th>\n",
       "      <th>target_2015</th>\n",
       "      <th>elevation</th>\n",
       "      <th>precip-17</th>\n",
       "      <th>precip-16</th>\n",
       "      <th>precip-15</th>\n",
       "      <th>precip-14</th>\n",
       "      <th>precip-13</th>\n",
       "      <th>precip-12</th>\n",
       "      <th>...</th>\n",
       "      <th>SDESC1_SDE</th>\n",
       "      <th>ALT2</th>\n",
       "      <th>COLOR</th>\n",
       "      <th>SOIL_GROUP</th>\n",
       "      <th>MW_LNDFRM</th>\n",
       "      <th>MW_LTH</th>\n",
       "      <th>MW_LNDFRM_le</th>\n",
       "      <th>MW_LTH_le</th>\n",
       "      <th>shortest_distance_to_water_area</th>\n",
       "      <th>shortest_distance_to_river</th>\n",
       "    </tr>\n",
       "  </thead>\n",
       "  <tbody>\n",
       "    <tr>\n",
       "      <th>0</th>\n",
       "      <td>34.26</td>\n",
       "      <td>-15.91</td>\n",
       "      <td>0.0</td>\n",
       "      <td>887.764222</td>\n",
       "      <td>0.0</td>\n",
       "      <td>0.0</td>\n",
       "      <td>0.0</td>\n",
       "      <td>14.844025</td>\n",
       "      <td>14.552823</td>\n",
       "      <td>12.237766</td>\n",
       "      <td>...</td>\n",
       "      <td>56</td>\n",
       "      <td>150.0</td>\n",
       "      <td>5</td>\n",
       "      <td>8</td>\n",
       "      <td>TH</td>\n",
       "      <td>II2</td>\n",
       "      <td>8</td>\n",
       "      <td>2</td>\n",
       "      <td>62.795062</td>\n",
       "      <td>35.804609</td>\n",
       "    </tr>\n",
       "    <tr>\n",
       "      <th>1</th>\n",
       "      <td>34.26</td>\n",
       "      <td>-15.90</td>\n",
       "      <td>0.0</td>\n",
       "      <td>743.403912</td>\n",
       "      <td>0.0</td>\n",
       "      <td>0.0</td>\n",
       "      <td>0.0</td>\n",
       "      <td>14.844025</td>\n",
       "      <td>14.552823</td>\n",
       "      <td>12.237766</td>\n",
       "      <td>...</td>\n",
       "      <td>56</td>\n",
       "      <td>150.0</td>\n",
       "      <td>5</td>\n",
       "      <td>8</td>\n",
       "      <td>TH</td>\n",
       "      <td>II2</td>\n",
       "      <td>8</td>\n",
       "      <td>2</td>\n",
       "      <td>63.029406</td>\n",
       "      <td>35.171073</td>\n",
       "    </tr>\n",
       "    <tr>\n",
       "      <th>2</th>\n",
       "      <td>34.26</td>\n",
       "      <td>-15.89</td>\n",
       "      <td>0.0</td>\n",
       "      <td>565.728343</td>\n",
       "      <td>0.0</td>\n",
       "      <td>0.0</td>\n",
       "      <td>0.0</td>\n",
       "      <td>14.844025</td>\n",
       "      <td>14.552823</td>\n",
       "      <td>12.237766</td>\n",
       "      <td>...</td>\n",
       "      <td>56</td>\n",
       "      <td>150.0</td>\n",
       "      <td>5</td>\n",
       "      <td>8</td>\n",
       "      <td>TH</td>\n",
       "      <td>II2</td>\n",
       "      <td>8</td>\n",
       "      <td>2</td>\n",
       "      <td>63.276203</td>\n",
       "      <td>34.550406</td>\n",
       "    </tr>\n",
       "    <tr>\n",
       "      <th>3</th>\n",
       "      <td>34.26</td>\n",
       "      <td>-15.88</td>\n",
       "      <td>0.0</td>\n",
       "      <td>443.392774</td>\n",
       "      <td>0.0</td>\n",
       "      <td>0.0</td>\n",
       "      <td>0.0</td>\n",
       "      <td>14.844025</td>\n",
       "      <td>14.552823</td>\n",
       "      <td>12.237766</td>\n",
       "      <td>...</td>\n",
       "      <td>21</td>\n",
       "      <td>150.0</td>\n",
       "      <td>5</td>\n",
       "      <td>8</td>\n",
       "      <td>TH</td>\n",
       "      <td>II2</td>\n",
       "      <td>8</td>\n",
       "      <td>2</td>\n",
       "      <td>63.535306</td>\n",
       "      <td>33.943316</td>\n",
       "    </tr>\n",
       "    <tr>\n",
       "      <th>4</th>\n",
       "      <td>34.26</td>\n",
       "      <td>-15.87</td>\n",
       "      <td>0.0</td>\n",
       "      <td>437.443428</td>\n",
       "      <td>0.0</td>\n",
       "      <td>0.0</td>\n",
       "      <td>0.0</td>\n",
       "      <td>14.844025</td>\n",
       "      <td>14.552823</td>\n",
       "      <td>12.237766</td>\n",
       "      <td>...</td>\n",
       "      <td>21</td>\n",
       "      <td>150.0</td>\n",
       "      <td>5</td>\n",
       "      <td>8</td>\n",
       "      <td>SP</td>\n",
       "      <td>SC4</td>\n",
       "      <td>7</td>\n",
       "      <td>7</td>\n",
       "      <td>63.806566</td>\n",
       "      <td>33.350543</td>\n",
       "    </tr>\n",
       "  </tbody>\n",
       "</table>\n",
       "<p>5 rows × 43 columns</p>\n",
       "</div>"
      ],
      "text/plain": [
       "       X      Y  target_2015   elevation  precip-17  precip-16  precip-15  \\\n",
       "0  34.26 -15.91          0.0  887.764222        0.0        0.0        0.0   \n",
       "1  34.26 -15.90          0.0  743.403912        0.0        0.0        0.0   \n",
       "2  34.26 -15.89          0.0  565.728343        0.0        0.0        0.0   \n",
       "3  34.26 -15.88          0.0  443.392774        0.0        0.0        0.0   \n",
       "4  34.26 -15.87          0.0  437.443428        0.0        0.0        0.0   \n",
       "\n",
       "   precip-14  precip-13  precip-12  ...  SDESC1_SDE   ALT2  COLOR  SOIL_GROUP  \\\n",
       "0  14.844025  14.552823  12.237766  ...          56  150.0      5           8   \n",
       "1  14.844025  14.552823  12.237766  ...          56  150.0      5           8   \n",
       "2  14.844025  14.552823  12.237766  ...          56  150.0      5           8   \n",
       "3  14.844025  14.552823  12.237766  ...          21  150.0      5           8   \n",
       "4  14.844025  14.552823  12.237766  ...          21  150.0      5           8   \n",
       "\n",
       "   MW_LNDFRM  MW_LTH  MW_LNDFRM_le  MW_LTH_le  \\\n",
       "0         TH     II2             8          2   \n",
       "1         TH     II2             8          2   \n",
       "2         TH     II2             8          2   \n",
       "3         TH     II2             8          2   \n",
       "4         SP     SC4             7          7   \n",
       "\n",
       "   shortest_distance_to_water_area  shortest_distance_to_river  \n",
       "0                        62.795062                   35.804609  \n",
       "1                        63.029406                   35.171073  \n",
       "2                        63.276203                   34.550406  \n",
       "3                        63.535306                   33.943316  \n",
       "4                        63.806566                   33.350543  \n",
       "\n",
       "[5 rows x 43 columns]"
      ]
     },
     "execution_count": 31,
     "metadata": {},
     "output_type": "execute_result"
    }
   ],
   "source": [
    "dist_river_list = [\n",
    " 'distance_to_river1',\n",
    " 'distance_to_river2',\n",
    " 'distance_to_river3',\n",
    " 'distance_to_river4',\n",
    " 'distance_to_river5',\n",
    " 'distance_to_river6',\n",
    " 'distance_to_river7',\n",
    " 'distance_to_river8',\n",
    " 'distance_to_river9',\n",
    " 'distance_to_river10',\n",
    " 'distance_to_river11',\n",
    " 'distance_to_river12',\n",
    " 'distance_to_river13',\n",
    " 'distance_to_river14',\n",
    " 'distance_to_river15',\n",
    " 'distance_to_river16',\n",
    " 'distance_to_river17',\n",
    " 'distance_to_river18',\n",
    " 'distance_to_river19',\n",
    " 'distance_to_river20',\n",
    " 'distance_to_river21',\n",
    " 'distance_to_river22',\n",
    " 'distance_to_river23',\n",
    " 'distance_to_river24',\n",
    " 'distance_to_river25',\n",
    " 'distance_to_river26',\n",
    " 'distance_to_river27',\n",
    " 'distance_to_river28',\n",
    " 'distance_to_river29',\n",
    " 'distance_to_river30',\n",
    " 'distance_to_river31',\n",
    " 'distance_to_river32',\n",
    " 'distance_to_river33',\n",
    " 'distance_to_river34',\n",
    " 'distance_to_river35']\n",
    "\n",
    "full_data[\"shortest_distance_to_river\"] = full_data[dist_river_list].min(axis=1)\n",
    "full_data = full_data.drop(dist_river_list, 1)\n",
    "print(full_data.shape)\n",
    "full_data.head()"
   ]
  },
  {
   "cell_type": "code",
   "execution_count": 32,
   "metadata": {},
   "outputs": [],
   "source": [
    "to_use_features = ['Square_ID','target_2015'] + ['LC_Type1_mode', 'X', 'Y',\n",
    "        'elevation', 'precip-1', 'precip-10',\n",
    "        'shortest_distance_to_river', 'precip-11', 'precip-12',\n",
    "        'precip-13', 'precip-14', 'precip-15','shortest_distance_to_water_area', \n",
    "        'precip-16', 'precip-17', 'precip-2', 'precip-3', 'precip-4','SOIL_TYPE',\n",
    "        'PRIMARY', 'SECONDARY','slope', 'precip-5', 'precip-6', 'precip-7', 'precip-8', \n",
    "        'precip-9','DRAINAGE', 'FLOODING', 'PONDING','EROSION','K', 'SREACT1',\n",
    "        'SDESC1_SDE', 'ALT2', 'COLOR','MW_LNDFRM_le','MW_LTH_le', 'SOIL_GROUP']"
   ]
  },
  {
   "cell_type": "markdown",
   "metadata": {},
   "source": [
    "Now let's Scale our data before fitting the estimators : "
   ]
  },
  {
   "cell_type": "code",
   "execution_count": 45,
   "metadata": {},
   "outputs": [],
   "source": [
    "from sklearn import preprocessing\n",
    "new_full_data = full_data[to_use_features].copy()\n",
    "for i in to_use_features :\n",
    "    if i not in [\"Square_ID\",\"target_2015\"]:\n",
    "        new_full_data[i] = preprocessing.scale(new_full_data[i])"
   ]
  },
  {
   "cell_type": "markdown",
   "metadata": {},
   "source": [
    "We almost tested all the SKlearn estimators on this set of features and the Top two Performing ones were : \n",
    "* RandomForest Regressor\n",
    "* Gradient Boosting Trees Regressor"
   ]
  },
  {
   "cell_type": "code",
   "execution_count": 46,
   "metadata": {},
   "outputs": [],
   "source": [
    "def plot_rf_feat_importances(rf_model, data, drop) :\n",
    "    data = data.drop(drop, 1)\n",
    "    feature_importances = pd.DataFrame(rf_model.feature_importances_,\n",
    "                                   index = data.columns,\n",
    "                                    columns=['importance']).sort_values('importance',ascending=False)\n",
    "    return feature_importances"
   ]
  },
  {
   "cell_type": "code",
   "execution_count": 47,
   "metadata": {},
   "outputs": [],
   "source": [
    "def Random_Forest_Submit(df, TARGET) :\n",
    "    to_remove = [\"Square_ID\"]\n",
    "    train_df = df[df[TARGET].notnull()]\n",
    "    train_df = train_df.drop(to_remove, 1)\n",
    "    test_df = df[df[TARGET].isnull()]\n",
    "    \n",
    "    print(\"Starting RandomForest. Train shape: {}\".format(train_df.shape))\n",
    "    print(\"Feature used are : \")\n",
    "    print(list(train_df.columns))\n",
    "    X_train, y_train = train_df.drop(TARGET,1), train_df[TARGET]\n",
    "    rf = RandomForestRegressor(n_jobs=4, random_state=1995, max_depth=9, criterion=\"mae\",\n",
    "                               max_features=.8, max_samples=.9, n_estimators=50, verbose=2)\n",
    "    rf.fit(X_train, y_train)\n",
    "    x_test = test_df.drop(to_remove, 1)\n",
    "    x_test = x_test.drop(TARGET, 1)\n",
    "    y_pred = rf.predict(x_test)\n",
    "    test_df[TARGET] = y_pred\n",
    "\n",
    "    return test_df[[\"Square_ID\",TARGET]], rf"
   ]
  },
  {
   "cell_type": "code",
   "execution_count": 50,
   "metadata": {},
   "outputs": [
    {
     "name": "stdout",
     "output_type": "stream",
     "text": [
      "Starting RandomForest. Train shape: (16466, 40)\n",
      "Feature used are : \n",
      "['target_2015', 'LC_Type1_mode', 'X', 'Y', 'elevation', 'precip-1', 'precip-10', 'shortest_distance_to_river', 'precip-11', 'precip-12', 'precip-13', 'precip-14', 'precip-15', 'shortest_distance_to_water_area', 'precip-16', 'precip-17', 'precip-2', 'precip-3', 'precip-4', 'SOIL_TYPE', 'PRIMARY', 'SECONDARY', 'slope', 'precip-5', 'precip-6', 'precip-7', 'precip-8', 'precip-9', 'DRAINAGE', 'FLOODING', 'PONDING', 'EROSION', 'K', 'SREACT1', 'SDESC1_SDE', 'ALT2', 'COLOR', 'MW_LNDFRM_le', 'MW_LTH_le', 'SOIL_GROUP']\n",
      "building tree 1 of 50\n",
      "building tree 2 of 50\n",
      "building tree 3 of 50\n",
      "building tree 4 of 50\n"
     ]
    },
    {
     "name": "stderr",
     "output_type": "stream",
     "text": [
      "[Parallel(n_jobs=4)]: Using backend ThreadingBackend with 4 concurrent workers.\n"
     ]
    },
    {
     "name": "stdout",
     "output_type": "stream",
     "text": [
      "building tree 5 of 50\n",
      "building tree 6 of 50\n",
      "building tree 7 of 50\n",
      "building tree 8 of 50\n",
      "building tree 9 of 50\n",
      "building tree 10 of 50\n",
      "building tree 11 of 50\n",
      "building tree 12 of 50\n",
      "building tree 13 of 50\n",
      "building tree 14 of 50\n",
      "building tree 15 of 50\n",
      "building tree 16 of 50\n",
      "building tree 17 of 50\n",
      "building tree 18 of 50\n",
      "building tree 19 of 50\n",
      "building tree 20 of 50\n",
      "building tree 21 of 50\n",
      "building tree 22 of 50\n",
      "building tree 23 of 50\n",
      "building tree 24 of 50\n",
      "building tree 25 of 50\n",
      "building tree 26 of 50\n",
      "building tree 27 of 50\n",
      "building tree 28 of 50\n",
      "building tree 29 of 50\n",
      "building tree 30 of 50\n",
      "building tree 31 of 50\n",
      "building tree 32 of 50\n",
      "building tree 33 of 50\n",
      "building tree 34 of 50\n",
      "building tree 35 of 50\n",
      "building tree 36 of 50\n"
     ]
    },
    {
     "name": "stderr",
     "output_type": "stream",
     "text": [
      "[Parallel(n_jobs=4)]: Done  33 tasks      | elapsed:  4.3min\n"
     ]
    },
    {
     "name": "stdout",
     "output_type": "stream",
     "text": [
      "building tree 37 of 50\n",
      "building tree 38 of 50\n",
      "building tree 39 of 50\n",
      "building tree 40 of 50\n",
      "building tree 41 of 50\n",
      "building tree 42 of 50\n",
      "building tree 43 of 50\n",
      "building tree 44 of 50\n",
      "building tree 45 of 50\n",
      "building tree 46 of 50\n",
      "building tree 47 of 50\n",
      "building tree 48 of 50\n",
      "building tree 49 of 50\n",
      "building tree 50 of 50\n"
     ]
    },
    {
     "name": "stderr",
     "output_type": "stream",
     "text": [
      "[Parallel(n_jobs=4)]: Done  50 out of  50 | elapsed:  6.2min finished\n",
      "[Parallel(n_jobs=4)]: Using backend ThreadingBackend with 4 concurrent workers.\n",
      "[Parallel(n_jobs=4)]: Done  33 tasks      | elapsed:    0.0s\n",
      "[Parallel(n_jobs=4)]: Done  50 out of  50 | elapsed:    0.0s finished\n",
      "/opt/conda/lib/python3.7/site-packages/ipykernel_launcher.py:17: SettingWithCopyWarning: \n",
      "A value is trying to be set on a copy of a slice from a DataFrame.\n",
      "Try using .loc[row_indexer,col_indexer] = value instead\n",
      "\n",
      "See the caveats in the documentation: https://pandas.pydata.org/pandas-docs/stable/user_guide/indexing.html#returning-a-view-versus-a-copy\n"
     ]
    }
   ],
   "source": [
    "submission, rf_model = Random_Forest_Submit(new_full_data, \"target_2015\")"
   ]
  },
  {
   "cell_type": "code",
   "execution_count": 51,
   "metadata": {},
   "outputs": [],
   "source": [
    "# Now let's plot features Importances according to RF Estimator : "
   ]
  },
  {
   "cell_type": "code",
   "execution_count": 52,
   "metadata": {},
   "outputs": [
    {
     "data": {
      "text/html": [
       "<div>\n",
       "<style scoped>\n",
       "    .dataframe tbody tr th:only-of-type {\n",
       "        vertical-align: middle;\n",
       "    }\n",
       "\n",
       "    .dataframe tbody tr th {\n",
       "        vertical-align: top;\n",
       "    }\n",
       "\n",
       "    .dataframe thead th {\n",
       "        text-align: right;\n",
       "    }\n",
       "</style>\n",
       "<table border=\"1\" class=\"dataframe\">\n",
       "  <thead>\n",
       "    <tr style=\"text-align: right;\">\n",
       "      <th></th>\n",
       "      <th>importance</th>\n",
       "    </tr>\n",
       "  </thead>\n",
       "  <tbody>\n",
       "    <tr>\n",
       "      <th>elevation</th>\n",
       "      <td>0.612990</td>\n",
       "    </tr>\n",
       "    <tr>\n",
       "      <th>slope</th>\n",
       "      <td>0.077714</td>\n",
       "    </tr>\n",
       "    <tr>\n",
       "      <th>X</th>\n",
       "      <td>0.067195</td>\n",
       "    </tr>\n",
       "    <tr>\n",
       "      <th>Y</th>\n",
       "      <td>0.051954</td>\n",
       "    </tr>\n",
       "    <tr>\n",
       "      <th>shortest_distance_to_river</th>\n",
       "      <td>0.026634</td>\n",
       "    </tr>\n",
       "    <tr>\n",
       "      <th>MW_LNDFRM_le</th>\n",
       "      <td>0.026339</td>\n",
       "    </tr>\n",
       "    <tr>\n",
       "      <th>shortest_distance_to_water_area</th>\n",
       "      <td>0.023324</td>\n",
       "    </tr>\n",
       "    <tr>\n",
       "      <th>SECONDARY</th>\n",
       "      <td>0.014463</td>\n",
       "    </tr>\n",
       "    <tr>\n",
       "      <th>precip-14</th>\n",
       "      <td>0.011844</td>\n",
       "    </tr>\n",
       "    <tr>\n",
       "      <th>LC_Type1_mode</th>\n",
       "      <td>0.008487</td>\n",
       "    </tr>\n",
       "    <tr>\n",
       "      <th>SDESC1_SDE</th>\n",
       "      <td>0.007269</td>\n",
       "    </tr>\n",
       "    <tr>\n",
       "      <th>PONDING</th>\n",
       "      <td>0.006822</td>\n",
       "    </tr>\n",
       "    <tr>\n",
       "      <th>precip-12</th>\n",
       "      <td>0.006608</td>\n",
       "    </tr>\n",
       "    <tr>\n",
       "      <th>SOIL_TYPE</th>\n",
       "      <td>0.006333</td>\n",
       "    </tr>\n",
       "    <tr>\n",
       "      <th>precip-10</th>\n",
       "      <td>0.005956</td>\n",
       "    </tr>\n",
       "    <tr>\n",
       "      <th>precip-6</th>\n",
       "      <td>0.004864</td>\n",
       "    </tr>\n",
       "    <tr>\n",
       "      <th>PRIMARY</th>\n",
       "      <td>0.004708</td>\n",
       "    </tr>\n",
       "    <tr>\n",
       "      <th>precip-13</th>\n",
       "      <td>0.004650</td>\n",
       "    </tr>\n",
       "    <tr>\n",
       "      <th>DRAINAGE</th>\n",
       "      <td>0.004366</td>\n",
       "    </tr>\n",
       "    <tr>\n",
       "      <th>precip-3</th>\n",
       "      <td>0.004211</td>\n",
       "    </tr>\n",
       "    <tr>\n",
       "      <th>FLOODING</th>\n",
       "      <td>0.003048</td>\n",
       "    </tr>\n",
       "    <tr>\n",
       "      <th>SREACT1</th>\n",
       "      <td>0.002912</td>\n",
       "    </tr>\n",
       "    <tr>\n",
       "      <th>SOIL_GROUP</th>\n",
       "      <td>0.002652</td>\n",
       "    </tr>\n",
       "    <tr>\n",
       "      <th>precip-4</th>\n",
       "      <td>0.002081</td>\n",
       "    </tr>\n",
       "    <tr>\n",
       "      <th>precip-11</th>\n",
       "      <td>0.001959</td>\n",
       "    </tr>\n",
       "    <tr>\n",
       "      <th>K</th>\n",
       "      <td>0.001821</td>\n",
       "    </tr>\n",
       "    <tr>\n",
       "      <th>precip-5</th>\n",
       "      <td>0.001602</td>\n",
       "    </tr>\n",
       "    <tr>\n",
       "      <th>precip-2</th>\n",
       "      <td>0.001144</td>\n",
       "    </tr>\n",
       "    <tr>\n",
       "      <th>ALT2</th>\n",
       "      <td>0.001083</td>\n",
       "    </tr>\n",
       "    <tr>\n",
       "      <th>precip-7</th>\n",
       "      <td>0.001042</td>\n",
       "    </tr>\n",
       "    <tr>\n",
       "      <th>precip-8</th>\n",
       "      <td>0.000907</td>\n",
       "    </tr>\n",
       "    <tr>\n",
       "      <th>MW_LTH_le</th>\n",
       "      <td>0.000881</td>\n",
       "    </tr>\n",
       "    <tr>\n",
       "      <th>EROSION</th>\n",
       "      <td>0.000835</td>\n",
       "    </tr>\n",
       "    <tr>\n",
       "      <th>precip-9</th>\n",
       "      <td>0.000591</td>\n",
       "    </tr>\n",
       "    <tr>\n",
       "      <th>precip-1</th>\n",
       "      <td>0.000300</td>\n",
       "    </tr>\n",
       "    <tr>\n",
       "      <th>precip-16</th>\n",
       "      <td>0.000178</td>\n",
       "    </tr>\n",
       "    <tr>\n",
       "      <th>precip-15</th>\n",
       "      <td>0.000148</td>\n",
       "    </tr>\n",
       "    <tr>\n",
       "      <th>precip-17</th>\n",
       "      <td>0.000043</td>\n",
       "    </tr>\n",
       "    <tr>\n",
       "      <th>COLOR</th>\n",
       "      <td>0.000043</td>\n",
       "    </tr>\n",
       "  </tbody>\n",
       "</table>\n",
       "</div>"
      ],
      "text/plain": [
       "                                 importance\n",
       "elevation                          0.612990\n",
       "slope                              0.077714\n",
       "X                                  0.067195\n",
       "Y                                  0.051954\n",
       "shortest_distance_to_river         0.026634\n",
       "MW_LNDFRM_le                       0.026339\n",
       "shortest_distance_to_water_area    0.023324\n",
       "SECONDARY                          0.014463\n",
       "precip-14                          0.011844\n",
       "LC_Type1_mode                      0.008487\n",
       "SDESC1_SDE                         0.007269\n",
       "PONDING                            0.006822\n",
       "precip-12                          0.006608\n",
       "SOIL_TYPE                          0.006333\n",
       "precip-10                          0.005956\n",
       "precip-6                           0.004864\n",
       "PRIMARY                            0.004708\n",
       "precip-13                          0.004650\n",
       "DRAINAGE                           0.004366\n",
       "precip-3                           0.004211\n",
       "FLOODING                           0.003048\n",
       "SREACT1                            0.002912\n",
       "SOIL_GROUP                         0.002652\n",
       "precip-4                           0.002081\n",
       "precip-11                          0.001959\n",
       "K                                  0.001821\n",
       "precip-5                           0.001602\n",
       "precip-2                           0.001144\n",
       "ALT2                               0.001083\n",
       "precip-7                           0.001042\n",
       "precip-8                           0.000907\n",
       "MW_LTH_le                          0.000881\n",
       "EROSION                            0.000835\n",
       "precip-9                           0.000591\n",
       "precip-1                           0.000300\n",
       "precip-16                          0.000178\n",
       "precip-15                          0.000148\n",
       "precip-17                          0.000043\n",
       "COLOR                              0.000043"
      ]
     },
     "execution_count": 52,
     "metadata": {},
     "output_type": "execute_result"
    }
   ],
   "source": [
    "plot_rf_feat_importances(rf_model, new_full_data[new_full_data.target_2015.notnull()][to_use_features], [\"Square_ID\"]+[\"target_2015\"])"
   ]
  },
  {
   "cell_type": "code",
   "execution_count": 53,
   "metadata": {},
   "outputs": [
    {
     "data": {
      "text/plain": [
       "<matplotlib.axes._subplots.AxesSubplot at 0x7f204b8bdbd0>"
      ]
     },
     "execution_count": 53,
     "metadata": {},
     "output_type": "execute_result"
    },
    {
     "data": {
      "image/png": "[encoded data removed]",
      "text/plain": [
       "<Figure size 432x288 with 1 Axes>"
      ]
     },
     "metadata": {
      "needs_background": "light"
     },
     "output_type": "display_data"
    }
   ],
   "source": [
    "# Let's check the Output Histogram : \n",
    "submission.target_2015.hist()"
   ]
  },
  {
   "cell_type": "code",
   "execution_count": 55,
   "metadata": {},
   "outputs": [],
   "source": [
    "submission.columns = ['Square_ID','target_2019']"
   ]
  },
  {
   "cell_type": "code",
   "execution_count": 56,
   "metadata": {},
   "outputs": [],
   "source": [
    "submission.to_csv('RF_first_prediction.csv', index=False)"
   ]
  },
  {
   "cell_type": "markdown",
   "metadata": {},
   "source": [
    "So far, this is the first prediction using RF Model.\n",
    "As we will see later, we will use a different Set of features with RF and then apply an Ensembling."
   ]
  },
  {
   "cell_type": "code",
   "execution_count": null,
   "metadata": {},
   "outputs": [],
   "source": []
  },
  {
   "cell_type": "markdown",
   "metadata": {},
   "source": [
    "Now let's Predict the Output using GBT : "
   ]
  },
  {
   "cell_type": "code",
   "execution_count": 57,
   "metadata": {},
   "outputs": [],
   "source": [
    "def GBT_Submit(df, TARGET) :\n",
    "    to_remove = [\"Square_ID\"]\n",
    "    train_df = df[df[TARGET].notnull()]\n",
    "    train_df = train_df.drop(to_remove, 1)\n",
    "    test_df = df[df[TARGET].isnull()]\n",
    "    \n",
    "    print(\"Starting GBT. Train shape: {}\".format(train_df.shape))\n",
    "    print(\"Feature used are : \")\n",
    "    print(list(train_df.columns))\n",
    "    X_train, y_train = train_df.drop(TARGET,1), train_df[TARGET]\n",
    "    gbt = GradientBoostingRegressor(n_estimators=15, random_state=1995, max_depth=7,\n",
    "                                   criterion=\"mae\", verbose=2)\n",
    "    gbt.fit(X_train, y_train)\n",
    "    x_test = test_df.drop(to_remove, 1)\n",
    "    x_test = x_test.drop(TARGET, 1)\n",
    "    y_pred = gbt.predict(x_test)\n",
    "    test_df[TARGET] = y_pred\n",
    "\n",
    "    return test_df[[\"Square_ID\",TARGET]], gbt"
   ]
  },
  {
   "cell_type": "code",
   "execution_count": 58,
   "metadata": {},
   "outputs": [
    {
     "name": "stdout",
     "output_type": "stream",
     "text": [
      "Starting GBT. Train shape: (16466, 40)\n",
      "Feature used are : \n",
      "['target_2015', 'LC_Type1_mode', 'X', 'Y', 'elevation', 'precip-1', 'precip-10', 'shortest_distance_to_river', 'precip-11', 'precip-12', 'precip-13', 'precip-14', 'precip-15', 'shortest_distance_to_water_area', 'precip-16', 'precip-17', 'precip-2', 'precip-3', 'precip-4', 'SOIL_TYPE', 'PRIMARY', 'SECONDARY', 'slope', 'precip-5', 'precip-6', 'precip-7', 'precip-8', 'precip-9', 'DRAINAGE', 'FLOODING', 'PONDING', 'EROSION', 'K', 'SREACT1', 'SDESC1_SDE', 'ALT2', 'COLOR', 'MW_LNDFRM_le', 'MW_LTH_le', 'SOIL_GROUP']\n",
      "      Iter       Train Loss   Remaining Time \n",
      "         1           0.0474           12.12m\n",
      "         2           0.0435           11.28m\n",
      "         3           0.0403           10.38m\n",
      "         4           0.0379            9.50m\n",
      "         5           0.0359            8.65m\n",
      "         6           0.0343            7.79m\n",
      "         7           0.0331            6.93m\n",
      "         8           0.0321            6.07m\n",
      "         9           0.0314            5.21m\n",
      "        10           0.0308            4.34m\n",
      "        11           0.0301            3.47m\n",
      "        12           0.0296            2.60m\n",
      "        13           0.0291            1.73m\n",
      "        14           0.0287           51.92s\n",
      "        15           0.0284            0.00s\n"
     ]
    },
    {
     "name": "stderr",
     "output_type": "stream",
     "text": [
      "/opt/conda/lib/python3.7/site-packages/ipykernel_launcher.py:17: SettingWithCopyWarning: \n",
      "A value is trying to be set on a copy of a slice from a DataFrame.\n",
      "Try using .loc[row_indexer,col_indexer] = value instead\n",
      "\n",
      "See the caveats in the documentation: https://pandas.pydata.org/pandas-docs/stable/user_guide/indexing.html#returning-a-view-versus-a-copy\n"
     ]
    }
   ],
   "source": [
    "submission_gbt, gbt_model = GBT_Submit(new_full_data, \"target_2015\")"
   ]
  },
  {
   "cell_type": "code",
   "execution_count": 59,
   "metadata": {},
   "outputs": [
    {
     "data": {
      "text/html": [
       "<div>\n",
       "<style scoped>\n",
       "    .dataframe tbody tr th:only-of-type {\n",
       "        vertical-align: middle;\n",
       "    }\n",
       "\n",
       "    .dataframe tbody tr th {\n",
       "        vertical-align: top;\n",
       "    }\n",
       "\n",
       "    .dataframe thead th {\n",
       "        text-align: right;\n",
       "    }\n",
       "</style>\n",
       "<table border=\"1\" class=\"dataframe\">\n",
       "  <thead>\n",
       "    <tr style=\"text-align: right;\">\n",
       "      <th></th>\n",
       "      <th>importance</th>\n",
       "    </tr>\n",
       "  </thead>\n",
       "  <tbody>\n",
       "    <tr>\n",
       "      <th>elevation</th>\n",
       "      <td>6.930829e-01</td>\n",
       "    </tr>\n",
       "    <tr>\n",
       "      <th>slope</th>\n",
       "      <td>9.499354e-02</td>\n",
       "    </tr>\n",
       "    <tr>\n",
       "      <th>Y</th>\n",
       "      <td>8.315189e-02</td>\n",
       "    </tr>\n",
       "    <tr>\n",
       "      <th>X</th>\n",
       "      <td>3.370550e-02</td>\n",
       "    </tr>\n",
       "    <tr>\n",
       "      <th>SECONDARY</th>\n",
       "      <td>2.274781e-02</td>\n",
       "    </tr>\n",
       "    <tr>\n",
       "      <th>shortest_distance_to_river</th>\n",
       "      <td>2.059657e-02</td>\n",
       "    </tr>\n",
       "    <tr>\n",
       "      <th>shortest_distance_to_water_area</th>\n",
       "      <td>1.491742e-02</td>\n",
       "    </tr>\n",
       "    <tr>\n",
       "      <th>LC_Type1_mode</th>\n",
       "      <td>8.891660e-03</td>\n",
       "    </tr>\n",
       "    <tr>\n",
       "      <th>PONDING</th>\n",
       "      <td>5.904285e-03</td>\n",
       "    </tr>\n",
       "    <tr>\n",
       "      <th>SOIL_TYPE</th>\n",
       "      <td>3.608269e-03</td>\n",
       "    </tr>\n",
       "    <tr>\n",
       "      <th>PRIMARY</th>\n",
       "      <td>1.977905e-03</td>\n",
       "    </tr>\n",
       "    <tr>\n",
       "      <th>SDESC1_SDE</th>\n",
       "      <td>1.678567e-03</td>\n",
       "    </tr>\n",
       "    <tr>\n",
       "      <th>precip-2</th>\n",
       "      <td>1.488882e-03</td>\n",
       "    </tr>\n",
       "    <tr>\n",
       "      <th>precip-14</th>\n",
       "      <td>1.445627e-03</td>\n",
       "    </tr>\n",
       "    <tr>\n",
       "      <th>precip-6</th>\n",
       "      <td>1.180857e-03</td>\n",
       "    </tr>\n",
       "    <tr>\n",
       "      <th>precip-8</th>\n",
       "      <td>1.089238e-03</td>\n",
       "    </tr>\n",
       "    <tr>\n",
       "      <th>MW_LNDFRM_le</th>\n",
       "      <td>1.027221e-03</td>\n",
       "    </tr>\n",
       "    <tr>\n",
       "      <th>FLOODING</th>\n",
       "      <td>1.025445e-03</td>\n",
       "    </tr>\n",
       "    <tr>\n",
       "      <th>ALT2</th>\n",
       "      <td>8.965744e-04</td>\n",
       "    </tr>\n",
       "    <tr>\n",
       "      <th>EROSION</th>\n",
       "      <td>8.684360e-04</td>\n",
       "    </tr>\n",
       "    <tr>\n",
       "      <th>K</th>\n",
       "      <td>6.619433e-04</td>\n",
       "    </tr>\n",
       "    <tr>\n",
       "      <th>precip-12</th>\n",
       "      <td>6.213846e-04</td>\n",
       "    </tr>\n",
       "    <tr>\n",
       "      <th>DRAINAGE</th>\n",
       "      <td>5.938482e-04</td>\n",
       "    </tr>\n",
       "    <tr>\n",
       "      <th>precip-9</th>\n",
       "      <td>5.474059e-04</td>\n",
       "    </tr>\n",
       "    <tr>\n",
       "      <th>precip-10</th>\n",
       "      <td>5.274231e-04</td>\n",
       "    </tr>\n",
       "    <tr>\n",
       "      <th>SOIL_GROUP</th>\n",
       "      <td>5.208378e-04</td>\n",
       "    </tr>\n",
       "    <tr>\n",
       "      <th>precip-11</th>\n",
       "      <td>4.313763e-04</td>\n",
       "    </tr>\n",
       "    <tr>\n",
       "      <th>precip-13</th>\n",
       "      <td>4.233200e-04</td>\n",
       "    </tr>\n",
       "    <tr>\n",
       "      <th>precip-7</th>\n",
       "      <td>4.082422e-04</td>\n",
       "    </tr>\n",
       "    <tr>\n",
       "      <th>precip-3</th>\n",
       "      <td>3.910789e-04</td>\n",
       "    </tr>\n",
       "    <tr>\n",
       "      <th>SREACT1</th>\n",
       "      <td>3.102789e-04</td>\n",
       "    </tr>\n",
       "    <tr>\n",
       "      <th>precip-15</th>\n",
       "      <td>8.570102e-05</td>\n",
       "    </tr>\n",
       "    <tr>\n",
       "      <th>MW_LTH_le</th>\n",
       "      <td>7.217141e-05</td>\n",
       "    </tr>\n",
       "    <tr>\n",
       "      <th>precip-4</th>\n",
       "      <td>6.832911e-05</td>\n",
       "    </tr>\n",
       "    <tr>\n",
       "      <th>precip-5</th>\n",
       "      <td>5.726615e-05</td>\n",
       "    </tr>\n",
       "    <tr>\n",
       "      <th>precip-1</th>\n",
       "      <td>7.873773e-07</td>\n",
       "    </tr>\n",
       "    <tr>\n",
       "      <th>precip-17</th>\n",
       "      <td>0.000000e+00</td>\n",
       "    </tr>\n",
       "    <tr>\n",
       "      <th>COLOR</th>\n",
       "      <td>0.000000e+00</td>\n",
       "    </tr>\n",
       "    <tr>\n",
       "      <th>precip-16</th>\n",
       "      <td>0.000000e+00</td>\n",
       "    </tr>\n",
       "  </tbody>\n",
       "</table>\n",
       "</div>"
      ],
      "text/plain": [
       "                                   importance\n",
       "elevation                        6.930829e-01\n",
       "slope                            9.499354e-02\n",
       "Y                                8.315189e-02\n",
       "X                                3.370550e-02\n",
       "SECONDARY                        2.274781e-02\n",
       "shortest_distance_to_river       2.059657e-02\n",
       "shortest_distance_to_water_area  1.491742e-02\n",
       "LC_Type1_mode                    8.891660e-03\n",
       "PONDING                          5.904285e-03\n",
       "SOIL_TYPE                        3.608269e-03\n",
       "PRIMARY                          1.977905e-03\n",
       "SDESC1_SDE                       1.678567e-03\n",
       "precip-2                         1.488882e-03\n",
       "precip-14                        1.445627e-03\n",
       "precip-6                         1.180857e-03\n",
       "precip-8                         1.089238e-03\n",
       "MW_LNDFRM_le                     1.027221e-03\n",
       "FLOODING                         1.025445e-03\n",
       "ALT2                             8.965744e-04\n",
       "EROSION                          8.684360e-04\n",
       "K                                6.619433e-04\n",
       "precip-12                        6.213846e-04\n",
       "DRAINAGE                         5.938482e-04\n",
       "precip-9                         5.474059e-04\n",
       "precip-10                        5.274231e-04\n",
       "SOIL_GROUP                       5.208378e-04\n",
       "precip-11                        4.313763e-04\n",
       "precip-13                        4.233200e-04\n",
       "precip-7                         4.082422e-04\n",
       "precip-3                         3.910789e-04\n",
       "SREACT1                          3.102789e-04\n",
       "precip-15                        8.570102e-05\n",
       "MW_LTH_le                        7.217141e-05\n",
       "precip-4                         6.832911e-05\n",
       "precip-5                         5.726615e-05\n",
       "precip-1                         7.873773e-07\n",
       "precip-17                        0.000000e+00\n",
       "COLOR                            0.000000e+00\n",
       "precip-16                        0.000000e+00"
      ]
     },
     "execution_count": 59,
     "metadata": {},
     "output_type": "execute_result"
    }
   ],
   "source": [
    "plot_rf_feat_importances(gbt_model, new_full_data[new_full_data.target_2015.notnull()], [\"Square_ID\"]+[\"target_2015\"])"
   ]
  },
  {
   "cell_type": "code",
   "execution_count": 61,
   "metadata": {},
   "outputs": [
    {
     "data": {
      "text/plain": [
       "<matplotlib.axes._subplots.AxesSubplot at 0x7f2049a4e3d0>"
      ]
     },
     "execution_count": 61,
     "metadata": {},
     "output_type": "execute_result"
    },
    {
     "data": {
      "image/png": "[encoded data removed]",
      "text/plain": [
       "<Figure size 432x288 with 1 Axes>"
      ]
     },
     "metadata": {
      "needs_background": "light"
     },
     "output_type": "display_data"
    }
   ],
   "source": [
    "submission_gbt.target_2015.hist()"
   ]
  },
  {
   "cell_type": "code",
   "execution_count": 62,
   "metadata": {},
   "outputs": [],
   "source": [
    "submission_gbt.columns = ['Square_ID','target_2019']\n",
    "submission_gbt.to_csv('GBT_first_prediction.csv', index=False)"
   ]
  },
  {
   "cell_type": "markdown",
   "metadata": {},
   "source": [
    "Now with the Ensembling of the two Predictions : "
   ]
  },
  {
   "cell_type": "code",
   "execution_count": 64,
   "metadata": {},
   "outputs": [
    {
     "data": {
      "text/plain": [
       "<matplotlib.axes._subplots.AxesSubplot at 0x7f20499df410>"
      ]
     },
     "execution_count": 64,
     "metadata": {},
     "output_type": "execute_result"
    },
    {
     "data": {
      "image/png": "[encoded data removed]",
      "text/plain": [
       "<Figure size 432x288 with 1 Axes>"
      ]
     },
     "metadata": {
      "needs_background": "light"
     },
     "output_type": "display_data"
    }
   ],
   "source": [
    "first_ensemble = submission.copy()\n",
    "first_ensemble['target_2019'] = (submission.target_2019.values)*0.7 + (submission_gbt.target_2019.values)*0.3\n",
    "first_ensemble.target_2019.hist()"
   ]
  },
  {
   "cell_type": "code",
   "execution_count": 65,
   "metadata": {},
   "outputs": [],
   "source": [
    "first_ensemble.to_csv(\"./ensemble_GBT_RF_First.csv\", index=False)"
   ]
  },
  {
   "cell_type": "markdown",
   "metadata": {},
   "source": [
    "In the Next of Notebook, we will use the Same models and then Ensembling but this time we will use a different Set of features."
   ]
  },
  {
   "cell_type": "code",
   "execution_count": null,
   "metadata": {},
   "outputs": [],
   "source": []
  },
  {
   "cell_type": "code",
   "execution_count": null,
   "metadata": {},
   "outputs": [],
   "source": []
  },
  {
   "cell_type": "code",
   "execution_count": null,
   "metadata": {},
   "outputs": [],
   "source": []
  },
  {
   "cell_type": "markdown",
   "metadata": {},
   "source": [
    "Now, we will extract coordinates of the Shire River and Mwanza River : the Two most Flooding Rivers in Malawi.\n",
    "* I will use \"Waterways\" in Shapefile format extracted from \"masdap\" website.\n",
    "* for the processing of the Shapefile : I'll use GeoPandas\n",
    "\n",
    "**NB** : I didn't used DivaGis for this task because DivaGis can only do Aggregations when we Have Polygon like Shapes --> this file is not ! "
   ]
  },
  {
   "cell_type": "markdown",
   "metadata": {},
   "source": [
    "You can find this data on the following link : \n",
    "* http://www.masdap.mw/layers/geonode:waterways"
   ]
  },
  {
   "cell_type": "code",
   "execution_count": 66,
   "metadata": {},
   "outputs": [],
   "source": [
    "import geopandas as gpd"
   ]
  },
  {
   "cell_type": "code",
   "execution_count": 67,
   "metadata": {},
   "outputs": [],
   "source": [
    "waterways = gpd.read_file(\"../input/water-ways/waterways.shp\")"
   ]
  },
  {
   "cell_type": "code",
   "execution_count": 68,
   "metadata": {},
   "outputs": [],
   "source": [
    "shire_list = []\n",
    "for index, row in waterways.iterrows():\n",
    "    if (row[\"name\"] == \"Shire\" and row[\"type\"] == \"river\"):\n",
    "        for i in list(row[\"geometry\"].coords):\n",
    "            shire_list.append(i)\n",
    "            \n",
    "\n",
    "mwanza_list = []\n",
    "for index, row in waterways.iterrows():\n",
    "    if (row[\"name\"] == \"Mwanza\" and row[\"type\"] == \"river\"):\n",
    "        for i in list(row[\"geometry\"].coords):\n",
    "            mwanza_list.append(i)"
   ]
  },
  {
   "cell_type": "code",
   "execution_count": 69,
   "metadata": {},
   "outputs": [
    {
     "name": "stdout",
     "output_type": "stream",
     "text": [
      "2063\n",
      "2063\n"
     ]
    }
   ],
   "source": [
    "shire_X = []\n",
    "shire_Y = []\n",
    "for i in shire_list:\n",
    "    shire_X.append(i[0])\n",
    "    shire_Y.append(i[1])\n",
    "print(len(shire_X))\n",
    "print(len(shire_Y))"
   ]
  },
  {
   "cell_type": "code",
   "execution_count": 70,
   "metadata": {},
   "outputs": [
    {
     "name": "stdout",
     "output_type": "stream",
     "text": [
      "652\n",
      "652\n"
     ]
    }
   ],
   "source": [
    "mwanza_X = []\n",
    "mwanza_Y = []\n",
    "for i in mwanza_list:\n",
    "    mwanza_X.append(i[0])\n",
    "    mwanza_Y.append(i[1])\n",
    "print(len(mwanza_X))\n",
    "print(len(mwanza_Y))"
   ]
  },
  {
   "cell_type": "code",
   "execution_count": 71,
   "metadata": {},
   "outputs": [],
   "source": [
    "# Let's convert those to Pandas Dataframes : \n",
    "\n",
    "shire_df = pd.DataFrame()\n",
    "shire_df[\"shire_X\"] = shire_X\n",
    "shire_df[\"shire_Y\"] = shire_Y\n",
    "\n",
    "mwanza_df = pd.DataFrame()\n",
    "mwanza_df[\"mwanza_X\"] = mwanza_X\n",
    "mwanza_df[\"mwanza_Y\"] = mwanza_Y"
   ]
  },
  {
   "cell_type": "markdown",
   "metadata": {},
   "source": [
    "**After extracting Rivers Coordinates, Following is the Visualization of 2015 Floods and the Shire Mwanza Rivers :**\n",
    "1. In Red : 2015 Flooded Areas\n",
    "2. Black thin Lines : Shire & Mwanza Rivers\n",
    "3. In Blue : Our Prediction for 2019"
   ]
  },
  {
   "attachments": {
    "malawi%20floods.PNG": {
     "image/png": "[encoded data removed]"
    }
   },
   "cell_type": "markdown",
   "metadata": {},
   "source": [
    "![malawi%20floods.PNG](attachment:malawi%20floods.PNG)"
   ]
  },
  {
   "cell_type": "markdown",
   "metadata": {},
   "source": [
    "**Obviously, most of the Flooding Areas in 2015 (in Red) are around Shire and Mwanza Rivers --> Our assumption is right !**"
   ]
  },
  {
   "cell_type": "code",
   "execution_count": null,
   "metadata": {},
   "outputs": [],
   "source": []
  },
  {
   "cell_type": "markdown",
   "metadata": {},
   "source": [
    "Again, we will Calculate the Shortest Distance from each Point in our Train_Test file to the Rivers"
   ]
  },
  {
   "cell_type": "code",
   "execution_count": 72,
   "metadata": {},
   "outputs": [
    {
     "name": "stdout",
     "output_type": "stream",
     "text": [
      "(16466, 2)\n"
     ]
    }
   ],
   "source": [
    "# Here, We're taking the X,Y coordinates for the Train\n",
    "x_y = full_data[full_data.target_2015.notnull()].reset_index(drop=True)[[\"X\",\"Y\"]]\n",
    "print(x_y.shape)"
   ]
  },
  {
   "cell_type": "code",
   "execution_count": 73,
   "metadata": {},
   "outputs": [
    {
     "name": "stdout",
     "output_type": "stream",
     "text": [
      "Processing time : 769.8424379825592\n"
     ]
    }
   ],
   "source": [
    "# This will take Some Time to finish, Grab a Coffee :) \n",
    "\n",
    "start = time.time()\n",
    "\n",
    "for i in range(len(mwanza_df)) :\n",
    "    temp_cpl = (float(mwanza_df.loc[i, \"mwanza_X\"]), float(mwanza_df.loc[i, \"mwanza_Y\"]))\n",
    "    x_y[\"mwanza\"+str(i)] = x_y.apply(lambda row : vincenty((row[\"X\"],row[\"Y\"]),temp_cpl),axis=1)\n",
    "    \n",
    "print(\"Processing time : {}\".format(time.time() - start))"
   ]
  },
  {
   "cell_type": "code",
   "execution_count": 74,
   "metadata": {},
   "outputs": [],
   "source": [
    "new_x_y = full_data[full_data.target_2015.notnull()].reset_index(drop=True)[[\"X\",\"Y\"]]\n",
    "new_x_y[\"shortest_mwanza_dist\"] = x_y[[i for i in list(x_y.columns) if i not in [\"X\",\"Y\"]]].min(axis=1)\n",
    "new_x_y = pd.concat([new_x_y, new_x_y], 0).reset_index(drop=True)\n",
    "\n",
    "shortest_dist_to_mwanza = new_x_y.copy()\n",
    "del new_x_y"
   ]
  },
  {
   "cell_type": "code",
   "execution_count": 75,
   "metadata": {},
   "outputs": [],
   "source": [
    "full_data[\"shortest_distance_to_mwanza\"] = shortest_dist_to_mwanza[\"shortest_mwanza_dist\"]"
   ]
  },
  {
   "cell_type": "markdown",
   "metadata": {},
   "source": [
    "The same Here will be done on Shire "
   ]
  },
  {
   "cell_type": "code",
   "execution_count": 76,
   "metadata": {},
   "outputs": [
    {
     "name": "stdout",
     "output_type": "stream",
     "text": [
      "(16466, 2)\n"
     ]
    }
   ],
   "source": [
    "# Here, We're taking the X,Y coordinates for the Train\n",
    "x_y = full_data[full_data.target_2015.notnull()].reset_index(drop=True)[[\"X\",\"Y\"]]\n",
    "print(x_y.shape)"
   ]
  },
  {
   "cell_type": "code",
   "execution_count": 77,
   "metadata": {},
   "outputs": [
    {
     "name": "stdout",
     "output_type": "stream",
     "text": [
      "Processing time : 2683.259916305542\n"
     ]
    }
   ],
   "source": [
    "# This will take Some Time to finish, Grab a Coffee :) \n",
    "\n",
    "start = time.time()\n",
    "\n",
    "for i in range(len(shire_df)) :\n",
    "    temp_cpl = (float(shire_df.loc[i, \"shire_X\"]), float(shire_df.loc[i, \"shire_Y\"]))\n",
    "    x_y[\"shire\"+str(i)] = x_y.apply(lambda row : vincenty((row[\"X\"],row[\"Y\"]),temp_cpl),axis=1)\n",
    "    \n",
    "print(\"Processing time : {}\".format(time.time() - start))"
   ]
  },
  {
   "cell_type": "code",
   "execution_count": 78,
   "metadata": {},
   "outputs": [],
   "source": [
    "new_x_y = full_data[full_data.target_2015.notnull()].reset_index(drop=True)[[\"X\",\"Y\"]]\n",
    "new_x_y[\"shortest_shire_dist\"] = x_y[[i for i in list(x_y.columns) if i not in [\"X\",\"Y\"]]].min(axis=1)\n",
    "new_x_y = pd.concat([new_x_y, new_x_y], 0).reset_index(drop=True)\n",
    "\n",
    "shortest_dist_to_shire = new_x_y.copy()\n",
    "del new_x_y"
   ]
  },
  {
   "cell_type": "code",
   "execution_count": 79,
   "metadata": {},
   "outputs": [],
   "source": [
    "full_data[\"shortest_distance_to_shire\"] = shortest_dist_to_shire[\"shortest_shire_dist\"]"
   ]
  },
  {
   "cell_type": "markdown",
   "metadata": {},
   "source": [
    "Now with Distances to Lakes.\n",
    "* The most important Lake in Southern Malawi is the Chilwa Lake.\n",
    "* We found Also other small Lakes that we took into consideration."
   ]
  },
  {
   "cell_type": "code",
   "execution_count": 80,
   "metadata": {},
   "outputs": [],
   "source": [
    "# small _lakes :\n",
    "lake1 = (34.81825, -16.08453)\n",
    "lake2 = (34.79530, -16.08682)\n",
    "lake3 = (34.89629, -16.11666)\n",
    "lake4 = (34.80907, -16.15798)\n",
    "lake5 = (34.93761, -16.26586)"
   ]
  },
  {
   "cell_type": "code",
   "execution_count": 81,
   "metadata": {},
   "outputs": [],
   "source": [
    "# feature distance to small lakes\n",
    "start = time.time()\n",
    "full_data[\"distance_to_small1\"] = full_data.apply(lambda row : vincenty((row[\"X\"],row[\"Y\"]),lake1),axis=1)\n",
    "full_data[\"distance_to_small2\"] = full_data.apply(lambda row : vincenty((row[\"X\"],row[\"Y\"]),lake2),axis=1)\n",
    "full_data[\"distance_to_small3\"] = full_data.apply(lambda row : vincenty((row[\"X\"],row[\"Y\"]),lake3),axis=1)\n",
    "full_data[\"distance_to_small4\"] = full_data.apply(lambda row : vincenty((row[\"X\"],row[\"Y\"]),lake4),axis=1)\n",
    "full_data[\"distance_to_small5\"] = full_data.apply(lambda row : vincenty((row[\"X\"],row[\"Y\"]),lake5),axis=1)"
   ]
  },
  {
   "cell_type": "code",
   "execution_count": 82,
   "metadata": {},
   "outputs": [
    {
     "data": {
      "text/html": [
       "<div>\n",
       "<style scoped>\n",
       "    .dataframe tbody tr th:only-of-type {\n",
       "        vertical-align: middle;\n",
       "    }\n",
       "\n",
       "    .dataframe tbody tr th {\n",
       "        vertical-align: top;\n",
       "    }\n",
       "\n",
       "    .dataframe thead th {\n",
       "        text-align: right;\n",
       "    }\n",
       "</style>\n",
       "<table border=\"1\" class=\"dataframe\">\n",
       "  <thead>\n",
       "    <tr style=\"text-align: right;\">\n",
       "      <th></th>\n",
       "      <th>X</th>\n",
       "      <th>Y</th>\n",
       "      <th>target_2015</th>\n",
       "      <th>elevation</th>\n",
       "      <th>precip-17</th>\n",
       "      <th>precip-16</th>\n",
       "      <th>precip-15</th>\n",
       "      <th>precip-14</th>\n",
       "      <th>precip-13</th>\n",
       "      <th>precip-12</th>\n",
       "      <th>...</th>\n",
       "      <th>SOIL_GROUP</th>\n",
       "      <th>MW_LNDFRM</th>\n",
       "      <th>MW_LTH</th>\n",
       "      <th>MW_LNDFRM_le</th>\n",
       "      <th>MW_LTH_le</th>\n",
       "      <th>shortest_distance_to_water_area</th>\n",
       "      <th>shortest_distance_to_river</th>\n",
       "      <th>shortest_distance_to_mwanza</th>\n",
       "      <th>shortest_distance_to_shire</th>\n",
       "      <th>shortest_distance_to_small_wa</th>\n",
       "    </tr>\n",
       "  </thead>\n",
       "  <tbody>\n",
       "    <tr>\n",
       "      <th>0</th>\n",
       "      <td>34.26</td>\n",
       "      <td>-15.91</td>\n",
       "      <td>0.0</td>\n",
       "      <td>887.764222</td>\n",
       "      <td>0.0</td>\n",
       "      <td>0.0</td>\n",
       "      <td>0.0</td>\n",
       "      <td>14.844025</td>\n",
       "      <td>14.552823</td>\n",
       "      <td>12.237766</td>\n",
       "      <td>...</td>\n",
       "      <td>8</td>\n",
       "      <td>TH</td>\n",
       "      <td>II2</td>\n",
       "      <td>8</td>\n",
       "      <td>2</td>\n",
       "      <td>62.795062</td>\n",
       "      <td>35.804609</td>\n",
       "      <td>18.281997</td>\n",
       "      <td>53.385065</td>\n",
       "      <td>61.560849</td>\n",
       "    </tr>\n",
       "    <tr>\n",
       "      <th>1</th>\n",
       "      <td>34.26</td>\n",
       "      <td>-15.90</td>\n",
       "      <td>0.0</td>\n",
       "      <td>743.403912</td>\n",
       "      <td>0.0</td>\n",
       "      <td>0.0</td>\n",
       "      <td>0.0</td>\n",
       "      <td>14.844025</td>\n",
       "      <td>14.552823</td>\n",
       "      <td>12.237766</td>\n",
       "      <td>...</td>\n",
       "      <td>8</td>\n",
       "      <td>TH</td>\n",
       "      <td>II2</td>\n",
       "      <td>8</td>\n",
       "      <td>2</td>\n",
       "      <td>63.029406</td>\n",
       "      <td>35.171073</td>\n",
       "      <td>18.375719</td>\n",
       "      <td>53.242752</td>\n",
       "      <td>61.809294</td>\n",
       "    </tr>\n",
       "  </tbody>\n",
       "</table>\n",
       "<p>2 rows × 46 columns</p>\n",
       "</div>"
      ],
      "text/plain": [
       "       X      Y  target_2015   elevation  precip-17  precip-16  precip-15  \\\n",
       "0  34.26 -15.91          0.0  887.764222        0.0        0.0        0.0   \n",
       "1  34.26 -15.90          0.0  743.403912        0.0        0.0        0.0   \n",
       "\n",
       "   precip-14  precip-13  precip-12  ...  SOIL_GROUP  MW_LNDFRM  MW_LTH  \\\n",
       "0  14.844025  14.552823  12.237766  ...           8         TH     II2   \n",
       "1  14.844025  14.552823  12.237766  ...           8         TH     II2   \n",
       "\n",
       "   MW_LNDFRM_le  MW_LTH_le  shortest_distance_to_water_area  \\\n",
       "0             8          2                        62.795062   \n",
       "1             8          2                        63.029406   \n",
       "\n",
       "   shortest_distance_to_river  shortest_distance_to_mwanza  \\\n",
       "0                   35.804609                    18.281997   \n",
       "1                   35.171073                    18.375719   \n",
       "\n",
       "   shortest_distance_to_shire  shortest_distance_to_small_wa  \n",
       "0                   53.385065                      61.560849  \n",
       "1                   53.242752                      61.809294  \n",
       "\n",
       "[2 rows x 46 columns]"
      ]
     },
     "execution_count": 82,
     "metadata": {},
     "output_type": "execute_result"
    }
   ],
   "source": [
    "# wa : water area\n",
    "dist_wa = ['distance_to_small1',\n",
    "       'distance_to_small2', 'distance_to_small3', 'distance_to_small4',\n",
    "       'distance_to_small5']\n",
    "\n",
    "full_data[\"shortest_distance_to_small_wa\"] = full_data[dist_wa].min(axis=1)\n",
    "full_data = full_data.drop(dist_wa, 1)\n",
    "full_data.head(2)"
   ]
  },
  {
   "cell_type": "code",
   "execution_count": 83,
   "metadata": {},
   "outputs": [],
   "source": [
    "# Chilwa Lake :\n",
    "# These are the Border Points to Chilwa Lake : \n",
    "chilwa1 = (35.59178, -15.21459)\n",
    "chilwa2 = (35.59408, -15.25361)\n",
    "chilwa3 = (35.58260, -15.26968)\n",
    "chilwa4 = (35.5688, -1529034)\n",
    "chilwa5 = (35.61244, -15.31329)\n",
    "\n",
    "chilwa6 = (35.62851, -15.34772)\n",
    "chilwa7 = (35.59178, -15.34083)\n",
    "chilwa8 = (35.57112, -15.34313)\n",
    "chilwa9 = (35.58949, -15.36379)\n",
    "chilwa10 = (35.61014, -15.38674)\n",
    "\n",
    "chilwa11 = (35.63080, -15.40510)\n",
    "chilwa12 = (35.65605, -15.43724)\n",
    "chilwa13 = (35.69278, -15.46708)\n",
    "chilwa14 = (35.72950, -15.48544)\n",
    "chilwa15 = (35.80066, -15.48085)\n",
    "\n",
    "chilwa16 = (35.83738, -15.45560)\n",
    "chilwa17 = (35.82820, -15.39592)\n",
    "chilwa18 = (35.84197, -15.37297)\n",
    "chilwa19 = (35.81902, -15.30870)\n",
    "chilwa20 = (35.79377, -15.28345)\n",
    "\n",
    "chilwa21 = (35.77541, -15.25820)\n",
    "chilwa22 = (35.78000, -15.21000)"
   ]
  },
  {
   "cell_type": "code",
   "execution_count": 84,
   "metadata": {},
   "outputs": [],
   "source": [
    "# feature dist to chilwa lake\n",
    "full_data[\"distance_to_chilwa1\"] = full_data.apply(lambda row : vincenty((row[\"X\"],row[\"Y\"]),chilwa1),axis=1)\n",
    "full_data[\"distance_to_chilwa2\"] = full_data.apply(lambda row : vincenty((row[\"X\"],row[\"Y\"]),chilwa2),axis=1)\n",
    "full_data[\"distance_to_chilwa3\"] = full_data.apply(lambda row : vincenty((row[\"X\"],row[\"Y\"]),chilwa3),axis=1)\n",
    "full_data[\"distance_to_chilwa4\"] = full_data.apply(lambda row : vincenty((row[\"X\"],row[\"Y\"]),chilwa4),axis=1)\n",
    "full_data[\"distance_to_chilwa5\"] = full_data.apply(lambda row : vincenty((row[\"X\"],row[\"Y\"]),chilwa5),axis=1)\n",
    "\n",
    "full_data[\"distance_to_chilwa6\"] = full_data.apply(lambda row : vincenty((row[\"X\"],row[\"Y\"]),chilwa6),axis=1)\n",
    "full_data[\"distance_to_chilwa7\"] = full_data.apply(lambda row : vincenty((row[\"X\"],row[\"Y\"]),chilwa7),axis=1)\n",
    "full_data[\"distance_to_chilwa8\"] = full_data.apply(lambda row : vincenty((row[\"X\"],row[\"Y\"]),chilwa8),axis=1)\n",
    "full_data[\"distance_to_chilwa9\"] = full_data.apply(lambda row : vincenty((row[\"X\"],row[\"Y\"]),chilwa9),axis=1)\n",
    "full_data[\"distance_to_chilwa10\"] = full_data.apply(lambda row : vincenty((row[\"X\"],row[\"Y\"]),chilwa10),axis=1)\n",
    "\n",
    "full_data[\"distance_to_chilwa11\"] = full_data.apply(lambda row : vincenty((row[\"X\"],row[\"Y\"]),chilwa11),axis=1)\n",
    "full_data[\"distance_to_chilwa12\"] = full_data.apply(lambda row : vincenty((row[\"X\"],row[\"Y\"]),chilwa12),axis=1)\n",
    "full_data[\"distance_to_chilwa13\"] = full_data.apply(lambda row : vincenty((row[\"X\"],row[\"Y\"]),chilwa13),axis=1)\n",
    "full_data[\"distance_to_chilwa14\"] = full_data.apply(lambda row : vincenty((row[\"X\"],row[\"Y\"]),chilwa14),axis=1)\n",
    "full_data[\"distance_to_chilwa15\"] = full_data.apply(lambda row : vincenty((row[\"X\"],row[\"Y\"]),chilwa15),axis=1)\n",
    "\n",
    "full_data[\"distance_to_chilwa16\"] = full_data.apply(lambda row : vincenty((row[\"X\"],row[\"Y\"]),chilwa16),axis=1)\n",
    "full_data[\"distance_to_chilwa17\"] = full_data.apply(lambda row : vincenty((row[\"X\"],row[\"Y\"]),chilwa17),axis=1)\n",
    "full_data[\"distance_to_chilwa18\"] = full_data.apply(lambda row : vincenty((row[\"X\"],row[\"Y\"]),chilwa18),axis=1)\n",
    "full_data[\"distance_to_chilwa19\"] = full_data.apply(lambda row : vincenty((row[\"X\"],row[\"Y\"]),chilwa19),axis=1)\n",
    "full_data[\"distance_to_chilwa20\"] = full_data.apply(lambda row : vincenty((row[\"X\"],row[\"Y\"]),chilwa20),axis=1)\n",
    "\n",
    "full_data[\"distance_to_chilwa21\"] = full_data.apply(lambda row : vincenty((row[\"X\"],row[\"Y\"]),chilwa21),axis=1)\n",
    "full_data[\"distance_to_chilwa22\"] = full_data.apply(lambda row : vincenty((row[\"X\"],row[\"Y\"]),chilwa22),axis=1)"
   ]
  },
  {
   "cell_type": "code",
   "execution_count": 85,
   "metadata": {},
   "outputs": [
    {
     "name": "stdout",
     "output_type": "stream",
     "text": [
      "(32932, 68)\n",
      "(32932, 47)\n"
     ]
    },
    {
     "data": {
      "text/html": [
       "<div>\n",
       "<style scoped>\n",
       "    .dataframe tbody tr th:only-of-type {\n",
       "        vertical-align: middle;\n",
       "    }\n",
       "\n",
       "    .dataframe tbody tr th {\n",
       "        vertical-align: top;\n",
       "    }\n",
       "\n",
       "    .dataframe thead th {\n",
       "        text-align: right;\n",
       "    }\n",
       "</style>\n",
       "<table border=\"1\" class=\"dataframe\">\n",
       "  <thead>\n",
       "    <tr style=\"text-align: right;\">\n",
       "      <th></th>\n",
       "      <th>X</th>\n",
       "      <th>Y</th>\n",
       "      <th>target_2015</th>\n",
       "      <th>elevation</th>\n",
       "      <th>precip-17</th>\n",
       "      <th>precip-16</th>\n",
       "      <th>precip-15</th>\n",
       "      <th>precip-14</th>\n",
       "      <th>precip-13</th>\n",
       "      <th>precip-12</th>\n",
       "      <th>...</th>\n",
       "      <th>MW_LNDFRM</th>\n",
       "      <th>MW_LTH</th>\n",
       "      <th>MW_LNDFRM_le</th>\n",
       "      <th>MW_LTH_le</th>\n",
       "      <th>shortest_distance_to_water_area</th>\n",
       "      <th>shortest_distance_to_river</th>\n",
       "      <th>shortest_distance_to_mwanza</th>\n",
       "      <th>shortest_distance_to_shire</th>\n",
       "      <th>shortest_distance_to_small_wa</th>\n",
       "      <th>shortest_distance_to_chilwa</th>\n",
       "    </tr>\n",
       "  </thead>\n",
       "  <tbody>\n",
       "    <tr>\n",
       "      <th>0</th>\n",
       "      <td>34.26</td>\n",
       "      <td>-15.91</td>\n",
       "      <td>0.0</td>\n",
       "      <td>887.764222</td>\n",
       "      <td>0.0</td>\n",
       "      <td>0.0</td>\n",
       "      <td>0.0</td>\n",
       "      <td>14.844025</td>\n",
       "      <td>14.552823</td>\n",
       "      <td>12.237766</td>\n",
       "      <td>...</td>\n",
       "      <td>TH</td>\n",
       "      <td>II2</td>\n",
       "      <td>8</td>\n",
       "      <td>2</td>\n",
       "      <td>62.795062</td>\n",
       "      <td>35.804609</td>\n",
       "      <td>18.281997</td>\n",
       "      <td>53.385065</td>\n",
       "      <td>61.560849</td>\n",
       "      <td>154.402384</td>\n",
       "    </tr>\n",
       "    <tr>\n",
       "      <th>1</th>\n",
       "      <td>34.26</td>\n",
       "      <td>-15.90</td>\n",
       "      <td>0.0</td>\n",
       "      <td>743.403912</td>\n",
       "      <td>0.0</td>\n",
       "      <td>0.0</td>\n",
       "      <td>0.0</td>\n",
       "      <td>14.844025</td>\n",
       "      <td>14.552823</td>\n",
       "      <td>12.237766</td>\n",
       "      <td>...</td>\n",
       "      <td>TH</td>\n",
       "      <td>II2</td>\n",
       "      <td>8</td>\n",
       "      <td>2</td>\n",
       "      <td>63.029406</td>\n",
       "      <td>35.171073</td>\n",
       "      <td>18.375719</td>\n",
       "      <td>53.242752</td>\n",
       "      <td>61.809294</td>\n",
       "      <td>154.098239</td>\n",
       "    </tr>\n",
       "    <tr>\n",
       "      <th>2</th>\n",
       "      <td>34.26</td>\n",
       "      <td>-15.89</td>\n",
       "      <td>0.0</td>\n",
       "      <td>565.728343</td>\n",
       "      <td>0.0</td>\n",
       "      <td>0.0</td>\n",
       "      <td>0.0</td>\n",
       "      <td>14.844025</td>\n",
       "      <td>14.552823</td>\n",
       "      <td>12.237766</td>\n",
       "      <td>...</td>\n",
       "      <td>TH</td>\n",
       "      <td>II2</td>\n",
       "      <td>8</td>\n",
       "      <td>2</td>\n",
       "      <td>63.276203</td>\n",
       "      <td>34.550406</td>\n",
       "      <td>18.510910</td>\n",
       "      <td>53.115940</td>\n",
       "      <td>62.070325</td>\n",
       "      <td>153.798922</td>\n",
       "    </tr>\n",
       "    <tr>\n",
       "      <th>3</th>\n",
       "      <td>34.26</td>\n",
       "      <td>-15.88</td>\n",
       "      <td>0.0</td>\n",
       "      <td>443.392774</td>\n",
       "      <td>0.0</td>\n",
       "      <td>0.0</td>\n",
       "      <td>0.0</td>\n",
       "      <td>14.844025</td>\n",
       "      <td>14.552823</td>\n",
       "      <td>12.237766</td>\n",
       "      <td>...</td>\n",
       "      <td>TH</td>\n",
       "      <td>II2</td>\n",
       "      <td>8</td>\n",
       "      <td>2</td>\n",
       "      <td>63.535306</td>\n",
       "      <td>33.943316</td>\n",
       "      <td>18.682315</td>\n",
       "      <td>53.004741</td>\n",
       "      <td>62.343785</td>\n",
       "      <td>153.504460</td>\n",
       "    </tr>\n",
       "    <tr>\n",
       "      <th>4</th>\n",
       "      <td>34.26</td>\n",
       "      <td>-15.87</td>\n",
       "      <td>0.0</td>\n",
       "      <td>437.443428</td>\n",
       "      <td>0.0</td>\n",
       "      <td>0.0</td>\n",
       "      <td>0.0</td>\n",
       "      <td>14.844025</td>\n",
       "      <td>14.552823</td>\n",
       "      <td>12.237766</td>\n",
       "      <td>...</td>\n",
       "      <td>SP</td>\n",
       "      <td>SC4</td>\n",
       "      <td>7</td>\n",
       "      <td>7</td>\n",
       "      <td>63.806566</td>\n",
       "      <td>33.350543</td>\n",
       "      <td>18.897018</td>\n",
       "      <td>52.909252</td>\n",
       "      <td>62.629510</td>\n",
       "      <td>153.214882</td>\n",
       "    </tr>\n",
       "  </tbody>\n",
       "</table>\n",
       "<p>5 rows × 47 columns</p>\n",
       "</div>"
      ],
      "text/plain": [
       "       X      Y  target_2015   elevation  precip-17  precip-16  precip-15  \\\n",
       "0  34.26 -15.91          0.0  887.764222        0.0        0.0        0.0   \n",
       "1  34.26 -15.90          0.0  743.403912        0.0        0.0        0.0   \n",
       "2  34.26 -15.89          0.0  565.728343        0.0        0.0        0.0   \n",
       "3  34.26 -15.88          0.0  443.392774        0.0        0.0        0.0   \n",
       "4  34.26 -15.87          0.0  437.443428        0.0        0.0        0.0   \n",
       "\n",
       "   precip-14  precip-13  precip-12  ...  MW_LNDFRM  MW_LTH  MW_LNDFRM_le  \\\n",
       "0  14.844025  14.552823  12.237766  ...         TH     II2             8   \n",
       "1  14.844025  14.552823  12.237766  ...         TH     II2             8   \n",
       "2  14.844025  14.552823  12.237766  ...         TH     II2             8   \n",
       "3  14.844025  14.552823  12.237766  ...         TH     II2             8   \n",
       "4  14.844025  14.552823  12.237766  ...         SP     SC4             7   \n",
       "\n",
       "   MW_LTH_le  shortest_distance_to_water_area  shortest_distance_to_river  \\\n",
       "0          2                        62.795062                   35.804609   \n",
       "1          2                        63.029406                   35.171073   \n",
       "2          2                        63.276203                   34.550406   \n",
       "3          2                        63.535306                   33.943316   \n",
       "4          7                        63.806566                   33.350543   \n",
       "\n",
       "   shortest_distance_to_mwanza  shortest_distance_to_shire  \\\n",
       "0                    18.281997                   53.385065   \n",
       "1                    18.375719                   53.242752   \n",
       "2                    18.510910                   53.115940   \n",
       "3                    18.682315                   53.004741   \n",
       "4                    18.897018                   52.909252   \n",
       "\n",
       "   shortest_distance_to_small_wa  shortest_distance_to_chilwa  \n",
       "0                      61.560849                   154.402384  \n",
       "1                      61.809294                   154.098239  \n",
       "2                      62.070325                   153.798922  \n",
       "3                      62.343785                   153.504460  \n",
       "4                      62.629510                   153.214882  \n",
       "\n",
       "[5 rows x 47 columns]"
      ]
     },
     "execution_count": 85,
     "metadata": {},
     "output_type": "execute_result"
    }
   ],
   "source": [
    "dist_chilwa =  ['distance_to_chilwa1',\n",
    " 'distance_to_chilwa2',\n",
    " 'distance_to_chilwa3',\n",
    " 'distance_to_chilwa4',\n",
    " 'distance_to_chilwa5',\n",
    " 'distance_to_chilwa6',\n",
    " 'distance_to_chilwa7',\n",
    " 'distance_to_chilwa8',\n",
    " 'distance_to_chilwa9',\n",
    " 'distance_to_chilwa10',\n",
    " 'distance_to_chilwa11',\n",
    " 'distance_to_chilwa12',\n",
    " 'distance_to_chilwa13',\n",
    " 'distance_to_chilwa14',\n",
    " 'distance_to_chilwa15',\n",
    " 'distance_to_chilwa16',\n",
    " 'distance_to_chilwa17',\n",
    " 'distance_to_chilwa18',\n",
    " 'distance_to_chilwa19',\n",
    " 'distance_to_chilwa20',\n",
    " 'distance_to_chilwa21',\n",
    " 'distance_to_chilwa22']\n",
    "\n",
    "print(full_data.shape)\n",
    "full_data[\"shortest_distance_to_chilwa\"] = full_data[dist_chilwa].min(axis=1)\n",
    "full_data = full_data.drop(dist_chilwa, 1)\n",
    "print(full_data.shape)\n",
    "full_data.head()"
   ]
  },
  {
   "cell_type": "markdown",
   "metadata": {},
   "source": [
    "Let's Calculate the Shortest Distance To Lakes and Rivers : "
   ]
  },
  {
   "cell_type": "code",
   "execution_count": 86,
   "metadata": {},
   "outputs": [],
   "source": [
    "full_data[\"new_short_wa\"] = full_data[[\"shortest_distance_to_chilwa\",\"shortest_distance_to_small_wa\"]].min(axis=1)\n",
    "full_data[\"new_short_river\"] = full_data[[\"shortest_distance_to_mwanza\",\"shortest_distance_to_shire\"]].min(axis=1)"
   ]
  },
  {
   "cell_type": "markdown",
   "metadata": {},
   "source": [
    "Some Additional GeoSpatial Features using Pygeohash : "
   ]
  },
  {
   "cell_type": "code",
   "execution_count": 87,
   "metadata": {},
   "outputs": [
    {
     "name": "stdout",
     "output_type": "stream",
     "text": [
      "\u001b[33mWARNING: You are using pip version 20.1; however, version 20.1.1 is available.\r\n",
      "You should consider upgrading via the '/opt/conda/bin/python3.7 -m pip install --upgrade pip' command.\u001b[0m\r\n"
     ]
    }
   ],
   "source": [
    "!pip -q install pygeohash\n",
    "import pygeohash as pgh\n",
    "from sklearn.preprocessing import LabelEncoder\n",
    "def le_enc(df, feat) :\n",
    "    le = LabelEncoder()\n",
    "    for i in feat :\n",
    "        df[str(i)+'_le'] = le.fit_transform(df[i].astype(str))\n",
    "    return df"
   ]
  },
  {
   "cell_type": "code",
   "execution_count": 88,
   "metadata": {},
   "outputs": [],
   "source": [
    "for j in range(4,6):\n",
    "    full_data['hash'+str(j)] = full_data.apply(lambda cord: pgh.encode(cord.X,cord.Y, j), axis=1)\n",
    "full_data = le_enc(full_data, ['hash4'])\n",
    "full_data = le_enc(full_data, ['hash5'])"
   ]
  },
  {
   "cell_type": "code",
   "execution_count": 89,
   "metadata": {},
   "outputs": [],
   "source": [
    "features_to_use = ['Square_ID','target_2015']+['X', 'Y','slope','elevation','LC_Type1_mode',\n",
    "        'precip-1', 'precip-10','precip-9',\n",
    "        'precip-11', 'precip-12',\n",
    "        'precip-13', 'precip-14', 'precip-15',\n",
    "        'precip-16', 'precip-17', 'precip-2', 'precip-3', 'precip-4'\n",
    "        , 'precip-5', 'precip-6', 'precip-7', 'precip-8']+['new_short_wa','new_short_river']+['shortest_distance_to_small_wa',\n",
    " 'shortest_distance_to_chilwa',\n",
    " 'shortest_distance_to_mwanza',\n",
    " 'shortest_distance_to_shire']+['shortest_distance_to_water_area',\n",
    "                                'shortest_distance_to_river']+['hash4_le','hash5_le']"
   ]
  },
  {
   "cell_type": "markdown",
   "metadata": {},
   "source": [
    "Scale the Data : "
   ]
  },
  {
   "cell_type": "code",
   "execution_count": 90,
   "metadata": {},
   "outputs": [],
   "source": [
    "from sklearn import preprocessing\n",
    "new_full_data = full_data[features_to_use].copy()\n",
    "for i in features_to_use :\n",
    "    if i not in [\"Square_ID\",\"target_2015\"]:\n",
    "        new_full_data[i] = preprocessing.scale(new_full_data[i])"
   ]
  },
  {
   "cell_type": "code",
   "execution_count": 91,
   "metadata": {},
   "outputs": [],
   "source": [
    "def Random_Forest_Submit(df, TARGET) :\n",
    "    to_remove = [\"Square_ID\"]\n",
    "    train_df = df[df[TARGET].notnull()]\n",
    "    train_df = train_df.drop(to_remove, 1)\n",
    "    test_df = df[df[TARGET].isnull()]\n",
    "    \n",
    "    print(\"Starting RandomForest. Train shape: {}\".format(train_df.shape))\n",
    "    print(\"Feature used are : \")\n",
    "    print(list(train_df.columns))\n",
    "    X_train, y_train = train_df.drop(TARGET,1), train_df[TARGET]\n",
    "    rf = RandomForestRegressor(n_jobs=4, random_state=1995, max_depth=9, criterion=\"mae\",\n",
    "                               max_features=.8, max_samples=.9, n_estimators=50, verbose=2)\n",
    "    rf.fit(X_train, y_train)\n",
    "    x_test = test_df.drop(to_remove, 1)\n",
    "    x_test = x_test.drop(TARGET, 1)\n",
    "    y_pred = rf.predict(x_test)\n",
    "    test_df[TARGET] = y_pred\n",
    "\n",
    "    return test_df[[\"Square_ID\",TARGET]], rf"
   ]
  },
  {
   "cell_type": "code",
   "execution_count": 92,
   "metadata": {},
   "outputs": [
    {
     "name": "stdout",
     "output_type": "stream",
     "text": [
      "Starting RandomForest. Train shape: (16466, 33)\n",
      "Feature used are : \n",
      "['target_2015', 'X', 'Y', 'slope', 'elevation', 'LC_Type1_mode', 'precip-1', 'precip-10', 'precip-9', 'precip-11', 'precip-12', 'precip-13', 'precip-14', 'precip-15', 'precip-16', 'precip-17', 'precip-2', 'precip-3', 'precip-4', 'precip-5', 'precip-6', 'precip-7', 'precip-8', 'new_short_wa', 'new_short_river', 'shortest_distance_to_small_wa', 'shortest_distance_to_chilwa', 'shortest_distance_to_mwanza', 'shortest_distance_to_shire', 'shortest_distance_to_water_area', 'shortest_distance_to_river', 'hash4_le', 'hash5_le']\n",
      "building tree 1 of 50building tree 2 of 50\n",
      "building tree 3 of 50\n",
      "building tree 4 of 50\n",
      "\n"
     ]
    },
    {
     "name": "stderr",
     "output_type": "stream",
     "text": [
      "[Parallel(n_jobs=4)]: Using backend ThreadingBackend with 4 concurrent workers.\n"
     ]
    },
    {
     "name": "stdout",
     "output_type": "stream",
     "text": [
      "building tree 5 of 50\n",
      "building tree 6 of 50\n",
      "building tree 7 of 50\n",
      "building tree 8 of 50\n",
      "building tree 9 of 50\n",
      "building tree 10 of 50\n",
      "building tree 11 of 50\n",
      "building tree 12 of 50\n",
      "building tree 13 of 50\n",
      "building tree 14 of 50\n",
      "building tree 15 of 50\n",
      "building tree 16 of 50\n",
      "building tree 17 of 50\n",
      "building tree 18 of 50\n",
      "building tree 19 of 50\n",
      "building tree 20 of 50\n",
      "building tree 21 of 50\n",
      "building tree 22 of 50\n",
      "building tree 23 of 50\n",
      "building tree 24 of 50\n",
      "building tree 25 of 50\n",
      "building tree 26 of 50\n",
      "building tree 27 of 50\n",
      "building tree 28 of 50\n",
      "building tree 29 of 50\n",
      "building tree 30 of 50\n",
      "building tree 31 of 50\n",
      "building tree 32 of 50\n",
      "building tree 33 of 50\n",
      "building tree 34 of 50\n",
      "building tree 35 of 50\n",
      "building tree 36 of 50\n"
     ]
    },
    {
     "name": "stderr",
     "output_type": "stream",
     "text": [
      "[Parallel(n_jobs=4)]: Done  33 tasks      | elapsed:  5.0min\n"
     ]
    },
    {
     "name": "stdout",
     "output_type": "stream",
     "text": [
      "building tree 37 of 50\n",
      "building tree 38 of 50\n",
      "building tree 39 of 50\n",
      "building tree 40 of 50\n",
      "building tree 41 of 50\n",
      "building tree 42 of 50\n",
      "building tree 43 of 50\n",
      "building tree 44 of 50\n",
      "building tree 45 of 50\n",
      "building tree 46 of 50\n",
      "building tree 47 of 50\n",
      "building tree 48 of 50\n",
      "building tree 49 of 50\n",
      "building tree 50 of 50\n"
     ]
    },
    {
     "name": "stderr",
     "output_type": "stream",
     "text": [
      "[Parallel(n_jobs=4)]: Done  50 out of  50 | elapsed:  7.1min finished\n",
      "[Parallel(n_jobs=4)]: Using backend ThreadingBackend with 4 concurrent workers.\n",
      "[Parallel(n_jobs=4)]: Done  33 tasks      | elapsed:    0.0s\n",
      "[Parallel(n_jobs=4)]: Done  50 out of  50 | elapsed:    0.0s finished\n",
      "/opt/conda/lib/python3.7/site-packages/ipykernel_launcher.py:17: SettingWithCopyWarning: \n",
      "A value is trying to be set on a copy of a slice from a DataFrame.\n",
      "Try using .loc[row_indexer,col_indexer] = value instead\n",
      "\n",
      "See the caveats in the documentation: https://pandas.pydata.org/pandas-docs/stable/user_guide/indexing.html#returning-a-view-versus-a-copy\n"
     ]
    }
   ],
   "source": [
    "submission, rf_model = Random_Forest_Submit(new_full_data, \"target_2015\")"
   ]
  },
  {
   "cell_type": "code",
   "execution_count": 93,
   "metadata": {},
   "outputs": [
    {
     "data": {
      "text/html": [
       "<div>\n",
       "<style scoped>\n",
       "    .dataframe tbody tr th:only-of-type {\n",
       "        vertical-align: middle;\n",
       "    }\n",
       "\n",
       "    .dataframe tbody tr th {\n",
       "        vertical-align: top;\n",
       "    }\n",
       "\n",
       "    .dataframe thead th {\n",
       "        text-align: right;\n",
       "    }\n",
       "</style>\n",
       "<table border=\"1\" class=\"dataframe\">\n",
       "  <thead>\n",
       "    <tr style=\"text-align: right;\">\n",
       "      <th></th>\n",
       "      <th>importance</th>\n",
       "    </tr>\n",
       "  </thead>\n",
       "  <tbody>\n",
       "    <tr>\n",
       "      <th>elevation</th>\n",
       "      <td>0.630143</td>\n",
       "    </tr>\n",
       "    <tr>\n",
       "      <th>shortest_distance_to_chilwa</th>\n",
       "      <td>0.057791</td>\n",
       "    </tr>\n",
       "    <tr>\n",
       "      <th>slope</th>\n",
       "      <td>0.056803</td>\n",
       "    </tr>\n",
       "    <tr>\n",
       "      <th>shortest_distance_to_shire</th>\n",
       "      <td>0.035125</td>\n",
       "    </tr>\n",
       "    <tr>\n",
       "      <th>X</th>\n",
       "      <td>0.028010</td>\n",
       "    </tr>\n",
       "    <tr>\n",
       "      <th>shortest_distance_to_river</th>\n",
       "      <td>0.021803</td>\n",
       "    </tr>\n",
       "    <tr>\n",
       "      <th>shortest_distance_to_mwanza</th>\n",
       "      <td>0.020751</td>\n",
       "    </tr>\n",
       "    <tr>\n",
       "      <th>new_short_river</th>\n",
       "      <td>0.020399</td>\n",
       "    </tr>\n",
       "    <tr>\n",
       "      <th>Y</th>\n",
       "      <td>0.019670</td>\n",
       "    </tr>\n",
       "    <tr>\n",
       "      <th>shortest_distance_to_water_area</th>\n",
       "      <td>0.017195</td>\n",
       "    </tr>\n",
       "    <tr>\n",
       "      <th>shortest_distance_to_small_wa</th>\n",
       "      <td>0.014308</td>\n",
       "    </tr>\n",
       "    <tr>\n",
       "      <th>new_short_wa</th>\n",
       "      <td>0.013869</td>\n",
       "    </tr>\n",
       "    <tr>\n",
       "      <th>hash5_le</th>\n",
       "      <td>0.012839</td>\n",
       "    </tr>\n",
       "    <tr>\n",
       "      <th>precip-14</th>\n",
       "      <td>0.009901</td>\n",
       "    </tr>\n",
       "    <tr>\n",
       "      <th>precip-12</th>\n",
       "      <td>0.006701</td>\n",
       "    </tr>\n",
       "    <tr>\n",
       "      <th>precip-10</th>\n",
       "      <td>0.005519</td>\n",
       "    </tr>\n",
       "    <tr>\n",
       "      <th>LC_Type1_mode</th>\n",
       "      <td>0.004615</td>\n",
       "    </tr>\n",
       "    <tr>\n",
       "      <th>precip-6</th>\n",
       "      <td>0.004570</td>\n",
       "    </tr>\n",
       "    <tr>\n",
       "      <th>precip-11</th>\n",
       "      <td>0.003776</td>\n",
       "    </tr>\n",
       "    <tr>\n",
       "      <th>precip-5</th>\n",
       "      <td>0.003709</td>\n",
       "    </tr>\n",
       "    <tr>\n",
       "      <th>precip-13</th>\n",
       "      <td>0.003374</td>\n",
       "    </tr>\n",
       "    <tr>\n",
       "      <th>precip-3</th>\n",
       "      <td>0.002771</td>\n",
       "    </tr>\n",
       "    <tr>\n",
       "      <th>precip-1</th>\n",
       "      <td>0.001547</td>\n",
       "    </tr>\n",
       "    <tr>\n",
       "      <th>precip-8</th>\n",
       "      <td>0.001258</td>\n",
       "    </tr>\n",
       "    <tr>\n",
       "      <th>hash4_le</th>\n",
       "      <td>0.001257</td>\n",
       "    </tr>\n",
       "    <tr>\n",
       "      <th>precip-2</th>\n",
       "      <td>0.000736</td>\n",
       "    </tr>\n",
       "    <tr>\n",
       "      <th>precip-4</th>\n",
       "      <td>0.000541</td>\n",
       "    </tr>\n",
       "    <tr>\n",
       "      <th>precip-7</th>\n",
       "      <td>0.000411</td>\n",
       "    </tr>\n",
       "    <tr>\n",
       "      <th>precip-9</th>\n",
       "      <td>0.000366</td>\n",
       "    </tr>\n",
       "    <tr>\n",
       "      <th>precip-16</th>\n",
       "      <td>0.000144</td>\n",
       "    </tr>\n",
       "    <tr>\n",
       "      <th>precip-17</th>\n",
       "      <td>0.000060</td>\n",
       "    </tr>\n",
       "    <tr>\n",
       "      <th>precip-15</th>\n",
       "      <td>0.000039</td>\n",
       "    </tr>\n",
       "  </tbody>\n",
       "</table>\n",
       "</div>"
      ],
      "text/plain": [
       "                                 importance\n",
       "elevation                          0.630143\n",
       "shortest_distance_to_chilwa        0.057791\n",
       "slope                              0.056803\n",
       "shortest_distance_to_shire         0.035125\n",
       "X                                  0.028010\n",
       "shortest_distance_to_river         0.021803\n",
       "shortest_distance_to_mwanza        0.020751\n",
       "new_short_river                    0.020399\n",
       "Y                                  0.019670\n",
       "shortest_distance_to_water_area    0.017195\n",
       "shortest_distance_to_small_wa      0.014308\n",
       "new_short_wa                       0.013869\n",
       "hash5_le                           0.012839\n",
       "precip-14                          0.009901\n",
       "precip-12                          0.006701\n",
       "precip-10                          0.005519\n",
       "LC_Type1_mode                      0.004615\n",
       "precip-6                           0.004570\n",
       "precip-11                          0.003776\n",
       "precip-5                           0.003709\n",
       "precip-13                          0.003374\n",
       "precip-3                           0.002771\n",
       "precip-1                           0.001547\n",
       "precip-8                           0.001258\n",
       "hash4_le                           0.001257\n",
       "precip-2                           0.000736\n",
       "precip-4                           0.000541\n",
       "precip-7                           0.000411\n",
       "precip-9                           0.000366\n",
       "precip-16                          0.000144\n",
       "precip-17                          0.000060\n",
       "precip-15                          0.000039"
      ]
     },
     "execution_count": 93,
     "metadata": {},
     "output_type": "execute_result"
    }
   ],
   "source": [
    "plot_rf_feat_importances(rf_model, new_full_data[new_full_data.target_2015.notnull()][features_to_use], [\"Square_ID\"]+[\"target_2015\"])"
   ]
  },
  {
   "cell_type": "code",
   "execution_count": 94,
   "metadata": {},
   "outputs": [
    {
     "data": {
      "text/plain": [
       "<matplotlib.axes._subplots.AxesSubplot at 0x7f2022073fd0>"
      ]
     },
     "execution_count": 94,
     "metadata": {},
     "output_type": "execute_result"
    },
    {
     "data": {
      "image/png": "[encoded data removed]",
      "text/plain": [
       "<Figure size 432x288 with 1 Axes>"
      ]
     },
     "metadata": {
      "needs_background": "light"
     },
     "output_type": "display_data"
    }
   ],
   "source": [
    "# Let's check the Output Histogram : \n",
    "submission.target_2015.hist()"
   ]
  },
  {
   "cell_type": "code",
   "execution_count": 96,
   "metadata": {},
   "outputs": [],
   "source": [
    "submission.columns = ['Square_ID','target_2019']\n",
    "submission.to_csv('RF_second_prediction.csv', index=False)"
   ]
  },
  {
   "cell_type": "code",
   "execution_count": null,
   "metadata": {},
   "outputs": [],
   "source": []
  },
  {
   "cell_type": "code",
   "execution_count": 97,
   "metadata": {},
   "outputs": [],
   "source": [
    "def GBT_Submit(df, TARGET) :\n",
    "    to_remove = [\"Square_ID\"]\n",
    "    train_df = df[df[TARGET].notnull()]\n",
    "    train_df = train_df.drop(to_remove, 1)\n",
    "    test_df = df[df[TARGET].isnull()]\n",
    "    \n",
    "    print(\"Starting GBT. Train shape: {}\".format(train_df.shape))\n",
    "    print(\"Feature used are : \")\n",
    "    print(list(train_df.columns))\n",
    "    X_train, y_train = train_df.drop(TARGET,1), train_df[TARGET]\n",
    "    gbt = GradientBoostingRegressor(n_estimators=15, random_state=1995, max_depth=7,\n",
    "                                   criterion=\"mae\", verbose=2)\n",
    "    gbt.fit(X_train, y_train)\n",
    "    x_test = test_df.drop(to_remove, 1)\n",
    "    x_test = x_test.drop(TARGET, 1)\n",
    "    y_pred = gbt.predict(x_test)\n",
    "    test_df[TARGET] = y_pred\n",
    "\n",
    "    return test_df[[\"Square_ID\",TARGET]], gbt"
   ]
  },
  {
   "cell_type": "code",
   "execution_count": 98,
   "metadata": {},
   "outputs": [
    {
     "name": "stdout",
     "output_type": "stream",
     "text": [
      "Starting GBT. Train shape: (16466, 33)\n",
      "Feature used are : \n",
      "['target_2015', 'X', 'Y', 'slope', 'elevation', 'LC_Type1_mode', 'precip-1', 'precip-10', 'precip-9', 'precip-11', 'precip-12', 'precip-13', 'precip-14', 'precip-15', 'precip-16', 'precip-17', 'precip-2', 'precip-3', 'precip-4', 'precip-5', 'precip-6', 'precip-7', 'precip-8', 'new_short_wa', 'new_short_river', 'shortest_distance_to_small_wa', 'shortest_distance_to_chilwa', 'shortest_distance_to_mwanza', 'shortest_distance_to_shire', 'shortest_distance_to_water_area', 'shortest_distance_to_river', 'hash4_le', 'hash5_le']\n",
      "      Iter       Train Loss   Remaining Time \n",
      "         1           0.0472           13.85m\n",
      "         2           0.0432           12.87m\n",
      "         3           0.0399           11.87m\n",
      "         4           0.0373           10.88m\n",
      "         5           0.0353            9.89m\n",
      "         6           0.0337            8.91m\n",
      "         7           0.0324            7.92m\n",
      "         8           0.0314            6.93m\n",
      "         9           0.0305            5.94m\n",
      "        10           0.0298            4.95m\n",
      "        11           0.0293            3.96m\n",
      "        12           0.0288            2.97m\n",
      "        13           0.0285            1.98m\n",
      "        14           0.0282           59.38s\n",
      "        15           0.0280            0.00s\n"
     ]
    },
    {
     "name": "stderr",
     "output_type": "stream",
     "text": [
      "/opt/conda/lib/python3.7/site-packages/ipykernel_launcher.py:17: SettingWithCopyWarning: \n",
      "A value is trying to be set on a copy of a slice from a DataFrame.\n",
      "Try using .loc[row_indexer,col_indexer] = value instead\n",
      "\n",
      "See the caveats in the documentation: https://pandas.pydata.org/pandas-docs/stable/user_guide/indexing.html#returning-a-view-versus-a-copy\n"
     ]
    }
   ],
   "source": [
    "submission_gbt, gbt_model = GBT_Submit(new_full_data, \"target_2015\")"
   ]
  },
  {
   "cell_type": "code",
   "execution_count": 99,
   "metadata": {},
   "outputs": [
    {
     "data": {
      "text/html": [
       "<div>\n",
       "<style scoped>\n",
       "    .dataframe tbody tr th:only-of-type {\n",
       "        vertical-align: middle;\n",
       "    }\n",
       "\n",
       "    .dataframe tbody tr th {\n",
       "        vertical-align: top;\n",
       "    }\n",
       "\n",
       "    .dataframe thead th {\n",
       "        text-align: right;\n",
       "    }\n",
       "</style>\n",
       "<table border=\"1\" class=\"dataframe\">\n",
       "  <thead>\n",
       "    <tr style=\"text-align: right;\">\n",
       "      <th></th>\n",
       "      <th>importance</th>\n",
       "    </tr>\n",
       "  </thead>\n",
       "  <tbody>\n",
       "    <tr>\n",
       "      <th>elevation</th>\n",
       "      <td>0.688988</td>\n",
       "    </tr>\n",
       "    <tr>\n",
       "      <th>shortest_distance_to_chilwa</th>\n",
       "      <td>0.073192</td>\n",
       "    </tr>\n",
       "    <tr>\n",
       "      <th>slope</th>\n",
       "      <td>0.050407</td>\n",
       "    </tr>\n",
       "    <tr>\n",
       "      <th>Y</th>\n",
       "      <td>0.044479</td>\n",
       "    </tr>\n",
       "    <tr>\n",
       "      <th>X</th>\n",
       "      <td>0.023805</td>\n",
       "    </tr>\n",
       "    <tr>\n",
       "      <th>shortest_distance_to_small_wa</th>\n",
       "      <td>0.013980</td>\n",
       "    </tr>\n",
       "    <tr>\n",
       "      <th>shortest_distance_to_shire</th>\n",
       "      <td>0.013877</td>\n",
       "    </tr>\n",
       "    <tr>\n",
       "      <th>shortest_distance_to_mwanza</th>\n",
       "      <td>0.013728</td>\n",
       "    </tr>\n",
       "    <tr>\n",
       "      <th>shortest_distance_to_river</th>\n",
       "      <td>0.013242</td>\n",
       "    </tr>\n",
       "    <tr>\n",
       "      <th>new_short_river</th>\n",
       "      <td>0.012864</td>\n",
       "    </tr>\n",
       "    <tr>\n",
       "      <th>hash5_le</th>\n",
       "      <td>0.010098</td>\n",
       "    </tr>\n",
       "    <tr>\n",
       "      <th>LC_Type1_mode</th>\n",
       "      <td>0.008813</td>\n",
       "    </tr>\n",
       "    <tr>\n",
       "      <th>new_short_wa</th>\n",
       "      <td>0.007584</td>\n",
       "    </tr>\n",
       "    <tr>\n",
       "      <th>shortest_distance_to_water_area</th>\n",
       "      <td>0.007466</td>\n",
       "    </tr>\n",
       "    <tr>\n",
       "      <th>precip-12</th>\n",
       "      <td>0.006949</td>\n",
       "    </tr>\n",
       "    <tr>\n",
       "      <th>precip-14</th>\n",
       "      <td>0.005898</td>\n",
       "    </tr>\n",
       "    <tr>\n",
       "      <th>precip-3</th>\n",
       "      <td>0.001497</td>\n",
       "    </tr>\n",
       "    <tr>\n",
       "      <th>hash4_le</th>\n",
       "      <td>0.001433</td>\n",
       "    </tr>\n",
       "    <tr>\n",
       "      <th>precip-10</th>\n",
       "      <td>0.000724</td>\n",
       "    </tr>\n",
       "    <tr>\n",
       "      <th>precip-5</th>\n",
       "      <td>0.000216</td>\n",
       "    </tr>\n",
       "    <tr>\n",
       "      <th>precip-6</th>\n",
       "      <td>0.000179</td>\n",
       "    </tr>\n",
       "    <tr>\n",
       "      <th>precip-9</th>\n",
       "      <td>0.000169</td>\n",
       "    </tr>\n",
       "    <tr>\n",
       "      <th>precip-15</th>\n",
       "      <td>0.000098</td>\n",
       "    </tr>\n",
       "    <tr>\n",
       "      <th>precip-1</th>\n",
       "      <td>0.000098</td>\n",
       "    </tr>\n",
       "    <tr>\n",
       "      <th>precip-11</th>\n",
       "      <td>0.000093</td>\n",
       "    </tr>\n",
       "    <tr>\n",
       "      <th>precip-8</th>\n",
       "      <td>0.000048</td>\n",
       "    </tr>\n",
       "    <tr>\n",
       "      <th>precip-2</th>\n",
       "      <td>0.000030</td>\n",
       "    </tr>\n",
       "    <tr>\n",
       "      <th>precip-13</th>\n",
       "      <td>0.000026</td>\n",
       "    </tr>\n",
       "    <tr>\n",
       "      <th>precip-4</th>\n",
       "      <td>0.000022</td>\n",
       "    </tr>\n",
       "    <tr>\n",
       "      <th>precip-7</th>\n",
       "      <td>0.000000</td>\n",
       "    </tr>\n",
       "    <tr>\n",
       "      <th>precip-17</th>\n",
       "      <td>0.000000</td>\n",
       "    </tr>\n",
       "    <tr>\n",
       "      <th>precip-16</th>\n",
       "      <td>0.000000</td>\n",
       "    </tr>\n",
       "  </tbody>\n",
       "</table>\n",
       "</div>"
      ],
      "text/plain": [
       "                                 importance\n",
       "elevation                          0.688988\n",
       "shortest_distance_to_chilwa        0.073192\n",
       "slope                              0.050407\n",
       "Y                                  0.044479\n",
       "X                                  0.023805\n",
       "shortest_distance_to_small_wa      0.013980\n",
       "shortest_distance_to_shire         0.013877\n",
       "shortest_distance_to_mwanza        0.013728\n",
       "shortest_distance_to_river         0.013242\n",
       "new_short_river                    0.012864\n",
       "hash5_le                           0.010098\n",
       "LC_Type1_mode                      0.008813\n",
       "new_short_wa                       0.007584\n",
       "shortest_distance_to_water_area    0.007466\n",
       "precip-12                          0.006949\n",
       "precip-14                          0.005898\n",
       "precip-3                           0.001497\n",
       "hash4_le                           0.001433\n",
       "precip-10                          0.000724\n",
       "precip-5                           0.000216\n",
       "precip-6                           0.000179\n",
       "precip-9                           0.000169\n",
       "precip-15                          0.000098\n",
       "precip-1                           0.000098\n",
       "precip-11                          0.000093\n",
       "precip-8                           0.000048\n",
       "precip-2                           0.000030\n",
       "precip-13                          0.000026\n",
       "precip-4                           0.000022\n",
       "precip-7                           0.000000\n",
       "precip-17                          0.000000\n",
       "precip-16                          0.000000"
      ]
     },
     "execution_count": 99,
     "metadata": {},
     "output_type": "execute_result"
    }
   ],
   "source": [
    "plot_rf_feat_importances(gbt_model, new_full_data[new_full_data.target_2015.notnull()], [\"Square_ID\"]+[\"target_2015\"])"
   ]
  },
  {
   "cell_type": "code",
   "execution_count": 100,
   "metadata": {},
   "outputs": [
    {
     "data": {
      "text/plain": [
       "<matplotlib.axes._subplots.AxesSubplot at 0x7f2020c12f90>"
      ]
     },
     "execution_count": 100,
     "metadata": {},
     "output_type": "execute_result"
    },
    {
     "data": {
      "image/png": "[encoded data removed]",
      "text/plain": [
       "<Figure size 432x288 with 1 Axes>"
      ]
     },
     "metadata": {
      "needs_background": "light"
     },
     "output_type": "display_data"
    }
   ],
   "source": [
    "submission_gbt.target_2015.hist()"
   ]
  },
  {
   "cell_type": "code",
   "execution_count": 101,
   "metadata": {},
   "outputs": [],
   "source": [
    "submission_gbt.columns = ['Square_ID','target_2019']\n",
    "submission_gbt.to_csv('GBT_second_prediction.csv', index=False)"
   ]
  },
  {
   "cell_type": "code",
   "execution_count": 102,
   "metadata": {},
   "outputs": [
    {
     "data": {
      "text/plain": [
       "<matplotlib.axes._subplots.AxesSubplot at 0x7f2021e272d0>"
      ]
     },
     "execution_count": 102,
     "metadata": {},
     "output_type": "execute_result"
    },
    {
     "data": {
      "image/png": "[encoded data removed]",
      "text/plain": [
       "<Figure size 432x288 with 1 Axes>"
      ]
     },
     "metadata": {
      "needs_background": "light"
     },
     "output_type": "display_data"
    }
   ],
   "source": [
    "second_ensemble = submission.copy()\n",
    "second_ensemble['target_2019'] = (submission.target_2019.values)*0.7 + (submission_gbt.target_2019.values)*0.3\n",
    "second_ensemble.target_2019.hist()"
   ]
  },
  {
   "cell_type": "code",
   "execution_count": null,
   "metadata": {},
   "outputs": [],
   "source": []
  },
  {
   "cell_type": "markdown",
   "metadata": {},
   "source": [
    "Now we have Two Ensembles : \n",
    "* One using the First set Of features\n",
    "* The second using another set of Features"
   ]
  },
  {
   "cell_type": "markdown",
   "metadata": {},
   "source": [
    "We will do a meta Ensemble Now : "
   ]
  },
  {
   "cell_type": "code",
   "execution_count": 103,
   "metadata": {},
   "outputs": [
    {
     "data": {
      "text/html": [
       "<div>\n",
       "<style scoped>\n",
       "    .dataframe tbody tr th:only-of-type {\n",
       "        vertical-align: middle;\n",
       "    }\n",
       "\n",
       "    .dataframe tbody tr th {\n",
       "        vertical-align: top;\n",
       "    }\n",
       "\n",
       "    .dataframe thead th {\n",
       "        text-align: right;\n",
       "    }\n",
       "</style>\n",
       "<table border=\"1\" class=\"dataframe\">\n",
       "  <thead>\n",
       "    <tr style=\"text-align: right;\">\n",
       "      <th></th>\n",
       "      <th>Square_ID</th>\n",
       "      <th>target_2019</th>\n",
       "    </tr>\n",
       "  </thead>\n",
       "  <tbody>\n",
       "    <tr>\n",
       "      <th>16466</th>\n",
       "      <td>4e3c3896-14ce-11ea-bce5-f49634744a41</td>\n",
       "      <td>0.011275</td>\n",
       "    </tr>\n",
       "    <tr>\n",
       "      <th>16467</th>\n",
       "      <td>4e3c3897-14ce-11ea-bce5-f49634744a41</td>\n",
       "      <td>0.011275</td>\n",
       "    </tr>\n",
       "    <tr>\n",
       "      <th>16468</th>\n",
       "      <td>4e3c3898-14ce-11ea-bce5-f49634744a41</td>\n",
       "      <td>0.006387</td>\n",
       "    </tr>\n",
       "    <tr>\n",
       "      <th>16469</th>\n",
       "      <td>4e3c3899-14ce-11ea-bce5-f49634744a41</td>\n",
       "      <td>0.006387</td>\n",
       "    </tr>\n",
       "    <tr>\n",
       "      <th>16470</th>\n",
       "      <td>4e3c389a-14ce-11ea-bce5-f49634744a41</td>\n",
       "      <td>0.006387</td>\n",
       "    </tr>\n",
       "  </tbody>\n",
       "</table>\n",
       "</div>"
      ],
      "text/plain": [
       "                                  Square_ID  target_2019\n",
       "16466  4e3c3896-14ce-11ea-bce5-f49634744a41     0.011275\n",
       "16467  4e3c3897-14ce-11ea-bce5-f49634744a41     0.011275\n",
       "16468  4e3c3898-14ce-11ea-bce5-f49634744a41     0.006387\n",
       "16469  4e3c3899-14ce-11ea-bce5-f49634744a41     0.006387\n",
       "16470  4e3c389a-14ce-11ea-bce5-f49634744a41     0.006387"
      ]
     },
     "execution_count": 103,
     "metadata": {},
     "output_type": "execute_result"
    }
   ],
   "source": [
    "meta_ensemble = pd.DataFrame()\n",
    "meta_ensemble[\"Square_ID\"] = submission_gbt.Square_ID\n",
    "meta_ensemble[\"target_2019\"] = first_ensemble.target_2019.values*0.2 + second_ensemble.target_2019.values*0.8\n",
    "meta_ensemble.head()"
   ]
  },
  {
   "cell_type": "code",
   "execution_count": 104,
   "metadata": {},
   "outputs": [
    {
     "data": {
      "text/plain": [
       "<matplotlib.axes._subplots.AxesSubplot at 0x7f20280bff50>"
      ]
     },
     "execution_count": 104,
     "metadata": {},
     "output_type": "execute_result"
    },
    {
     "data": {
      "image/png": "[encoded data removed]",
      "text/plain": [
       "<Figure size 432x288 with 1 Axes>"
      ]
     },
     "metadata": {
      "needs_background": "light"
     },
     "output_type": "display_data"
    }
   ],
   "source": [
    "meta_ensemble.target_2019.hist()"
   ]
  },
  {
   "cell_type": "code",
   "execution_count": 105,
   "metadata": {},
   "outputs": [],
   "source": [
    "meta_ensemble.to_csv(\"./00803.csv\", index=False)"
   ]
  },
  {
   "cell_type": "code",
   "execution_count": null,
   "metadata": {},
   "outputs": [],
   "source": []
  },
  {
   "cell_type": "markdown",
   "metadata": {},
   "source": [
    "Now, With some Visualizations.\n",
    "* We found that our model Outputs Floods in the Lake Chilwa which is incorrect, so we did set all these points to Zero before submitting : (NB : You can find the process how we got these points in the attachements : \"Inside_Chilwa_Lake_Points\" Folder)  "
   ]
  },
  {
   "cell_type": "markdown",
   "metadata": {},
   "source": [
    "**This is the Inside Chilwa Lake Points (Green Points) : **"
   ]
  },
  {
   "attachments": {
    "inside%20chilwa%20pts.PNG": {
     "image/png": "[encoded data removed]"
    }
   },
   "cell_type": "markdown",
   "metadata": {},
   "source": [
    "![inside%20chilwa%20pts.PNG](attachment:inside%20chilwa%20pts.PNG)"
   ]
  },
  {
   "cell_type": "markdown",
   "metadata": {},
   "source": [
    "**This is 2015 Floods (In Red): **"
   ]
  },
  {
   "attachments": {
    "inside%20chilwa%20with%20flood%202015.PNG": {
     "image/png": "[encoded data removed]"
    }
   },
   "cell_type": "markdown",
   "metadata": {},
   "source": [
    "![inside%20chilwa%20with%20flood%202015.PNG](attachment:inside%20chilwa%20with%20flood%202015.PNG)"
   ]
  },
  {
   "cell_type": "markdown",
   "metadata": {},
   "source": [
    "As We can See from the previous Visualizations :\n",
    "* Chilwa Lake Inside Points Should not be considered as flooding in 2019 Predictons."
   ]
  },
  {
   "cell_type": "code",
   "execution_count": 13,
   "metadata": {},
   "outputs": [],
   "source": [
    "chilwa_inside_points = pd.read_csv(\"../input/chilwa-inside-points/chilwa_inside_points.csv\")"
   ]
  },
  {
   "cell_type": "code",
   "execution_count": 15,
   "metadata": {},
   "outputs": [
    {
     "data": {
      "text/html": [
       "<div>\n",
       "<style scoped>\n",
       "    .dataframe tbody tr th:only-of-type {\n",
       "        vertical-align: middle;\n",
       "    }\n",
       "\n",
       "    .dataframe tbody tr th {\n",
       "        vertical-align: top;\n",
       "    }\n",
       "\n",
       "    .dataframe thead th {\n",
       "        text-align: right;\n",
       "    }\n",
       "</style>\n",
       "<table border=\"1\" class=\"dataframe\">\n",
       "  <thead>\n",
       "    <tr style=\"text-align: right;\">\n",
       "      <th></th>\n",
       "      <th>X</th>\n",
       "      <th>COUNTRY</th>\n",
       "      <th>Y</th>\n",
       "    </tr>\n",
       "  </thead>\n",
       "  <tbody>\n",
       "    <tr>\n",
       "      <th>0</th>\n",
       "      <td>35.58</td>\n",
       "      <td>Malawi</td>\n",
       "      <td>-15.35</td>\n",
       "    </tr>\n",
       "    <tr>\n",
       "      <th>1</th>\n",
       "      <td>35.58</td>\n",
       "      <td>Malawi</td>\n",
       "      <td>-15.34</td>\n",
       "    </tr>\n",
       "    <tr>\n",
       "      <th>2</th>\n",
       "      <td>35.59</td>\n",
       "      <td>Malawi</td>\n",
       "      <td>-15.36</td>\n",
       "    </tr>\n",
       "    <tr>\n",
       "      <th>3</th>\n",
       "      <td>35.59</td>\n",
       "      <td>Malawi</td>\n",
       "      <td>-15.35</td>\n",
       "    </tr>\n",
       "    <tr>\n",
       "      <th>4</th>\n",
       "      <td>35.59</td>\n",
       "      <td>Malawi</td>\n",
       "      <td>-15.34</td>\n",
       "    </tr>\n",
       "  </tbody>\n",
       "</table>\n",
       "</div>"
      ],
      "text/plain": [
       "       X COUNTRY      Y\n",
       "0  35.58  Malawi -15.35\n",
       "1  35.58  Malawi -15.34\n",
       "2  35.59  Malawi -15.36\n",
       "3  35.59  Malawi -15.35\n",
       "4  35.59  Malawi -15.34"
      ]
     },
     "execution_count": 15,
     "metadata": {},
     "output_type": "execute_result"
    }
   ],
   "source": [
    "chilwa_inside_points.head()"
   ]
  },
  {
   "cell_type": "code",
   "execution_count": 111,
   "metadata": {},
   "outputs": [
    {
     "name": "stderr",
     "output_type": "stream",
     "text": [
      "/opt/conda/lib/python3.7/site-packages/ipykernel_launcher.py:4: SettingWithCopyWarning: \n",
      "A value is trying to be set on a copy of a slice from a DataFrame\n",
      "\n",
      "See the caveats in the documentation: https://pandas.pydata.org/pandas-docs/stable/user_guide/indexing.html#returning-a-view-versus-a-copy\n",
      "  after removing the cwd from sys.path.\n"
     ]
    }
   ],
   "source": [
    "meta_ensemble = pd.merge(left=meta_ensemble, right=test[[\"Square_ID\",\"X\",\"Y\"]], on=[\"Square_ID\"], how='left')\n",
    "\n",
    "meta_ensemble = pd.merge(left=meta_ensemble, right=chilwa_inside_points, on=[\"X\",\"Y\"], how='left')\n",
    "meta_ensemble[\"target_2019\"][meta_ensemble.COUNTRY == \"Malawi\"] = 0.0\n",
    "\n",
    "meta_ensemble = meta_ensemble[[\"Square_ID\",\"target_2019\"]]"
   ]
  },
  {
   "cell_type": "code",
   "execution_count": 113,
   "metadata": {},
   "outputs": [
    {
     "data": {
      "text/plain": [
       "array([[<matplotlib.axes._subplots.AxesSubplot object at 0x7f2023583c10>]],\n",
       "      dtype=object)"
      ]
     },
     "execution_count": 113,
     "metadata": {},
     "output_type": "execute_result"
    },
    {
     "data": {
      "image/png": "[encoded data removed]",
      "text/plain": [
       "<Figure size 432x288 with 1 Axes>"
      ]
     },
     "metadata": {
      "needs_background": "light"
     },
     "output_type": "display_data"
    }
   ],
   "source": [
    "meta_ensemble.hist()"
   ]
  },
  {
   "cell_type": "code",
   "execution_count": 114,
   "metadata": {},
   "outputs": [],
   "source": [
    "meta_ensemble.to_csv(\"./sub_rf_0.08039.csv\", index=False)"
   ]
  },
  {
   "cell_type": "code",
   "execution_count": null,
   "metadata": {},
   "outputs": [],
   "source": []
  },
  {
   "cell_type": "code",
   "execution_count": null,
   "metadata": {},
   "outputs": [],
   "source": []
  }
 ],
 "metadata": {
  "kernelspec": {
   "display_name": "Python 2",
   "language": "python",
   "name": "python2"
  },
  "language_info": {
   "codemirror_mode": {
    "name": "ipython",
    "version": 2
   },
   "file_extension": ".py",
   "mimetype": "text/x-python",
   "name": "python",
   "nbconvert_exporter": "python",
   "pygments_lexer": "ipython2",
   "version": "2.7.14"
  }
 },
 "nbformat": 4,
 "nbformat_minor": 4
}
